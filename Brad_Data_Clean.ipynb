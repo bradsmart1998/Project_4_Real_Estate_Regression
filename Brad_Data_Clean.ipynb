{
 "cells": [
  {
   "cell_type": "code",
   "execution_count": 1,
   "id": "e56224c2",
   "metadata": {},
   "outputs": [],
   "source": [
    "# Import Dependancies \n",
    "import pandas as pd\n",
    "import matplotlib.pyplot as plt\n",
    "import seaborn as sns"
   ]
  },
  {
   "cell_type": "markdown",
   "id": "25276424",
   "metadata": {},
   "source": [
    "## The Dataset"
   ]
  },
  {
   "cell_type": "code",
   "execution_count": 2,
   "id": "e0dcee96",
   "metadata": {},
   "outputs": [
    {
     "data": {
      "text/html": [
       "<div>\n",
       "<style scoped>\n",
       "    .dataframe tbody tr th:only-of-type {\n",
       "        vertical-align: middle;\n",
       "    }\n",
       "\n",
       "    .dataframe tbody tr th {\n",
       "        vertical-align: top;\n",
       "    }\n",
       "\n",
       "    .dataframe thead th {\n",
       "        text-align: right;\n",
       "    }\n",
       "</style>\n",
       "<table border=\"1\" class=\"dataframe\">\n",
       "  <thead>\n",
       "    <tr style=\"text-align: right;\">\n",
       "      <th></th>\n",
       "      <th>ADDRESS</th>\n",
       "      <th>SUBURB</th>\n",
       "      <th>PRICE</th>\n",
       "      <th>BEDROOMS</th>\n",
       "      <th>BATHROOMS</th>\n",
       "      <th>GARAGE</th>\n",
       "      <th>LAND_AREA</th>\n",
       "      <th>FLOOR_AREA</th>\n",
       "      <th>BUILD_YEAR</th>\n",
       "      <th>CBD_DIST</th>\n",
       "      <th>NEAREST_STN</th>\n",
       "      <th>NEAREST_STN_DIST</th>\n",
       "      <th>DATE_SOLD</th>\n",
       "      <th>POSTCODE</th>\n",
       "      <th>LATITUDE</th>\n",
       "      <th>LONGITUDE</th>\n",
       "      <th>NEAREST_SCH</th>\n",
       "      <th>NEAREST_SCH_DIST</th>\n",
       "      <th>NEAREST_SCH_RANK</th>\n",
       "    </tr>\n",
       "  </thead>\n",
       "  <tbody>\n",
       "    <tr>\n",
       "      <th>0</th>\n",
       "      <td>1 Acorn Place</td>\n",
       "      <td>South Lake</td>\n",
       "      <td>565000</td>\n",
       "      <td>4</td>\n",
       "      <td>2</td>\n",
       "      <td>2.0</td>\n",
       "      <td>600</td>\n",
       "      <td>160</td>\n",
       "      <td>2003.0</td>\n",
       "      <td>18300</td>\n",
       "      <td>Cockburn Central Station</td>\n",
       "      <td>1800</td>\n",
       "      <td>09-2018\\r</td>\n",
       "      <td>6164</td>\n",
       "      <td>-32.115900</td>\n",
       "      <td>115.842450</td>\n",
       "      <td>LAKELAND SENIOR HIGH SCHOOL</td>\n",
       "      <td>0.828339</td>\n",
       "      <td>NaN</td>\n",
       "    </tr>\n",
       "    <tr>\n",
       "      <th>1</th>\n",
       "      <td>1 Addis Way</td>\n",
       "      <td>Wandi</td>\n",
       "      <td>365000</td>\n",
       "      <td>3</td>\n",
       "      <td>2</td>\n",
       "      <td>2.0</td>\n",
       "      <td>351</td>\n",
       "      <td>139</td>\n",
       "      <td>2013.0</td>\n",
       "      <td>26900</td>\n",
       "      <td>Kwinana Station</td>\n",
       "      <td>4900</td>\n",
       "      <td>02-2019\\r</td>\n",
       "      <td>6167</td>\n",
       "      <td>-32.193470</td>\n",
       "      <td>115.859554</td>\n",
       "      <td>ATWELL COLLEGE</td>\n",
       "      <td>5.524324</td>\n",
       "      <td>129.0</td>\n",
       "    </tr>\n",
       "    <tr>\n",
       "      <th>2</th>\n",
       "      <td>1 Ainsley Court</td>\n",
       "      <td>Camillo</td>\n",
       "      <td>287000</td>\n",
       "      <td>3</td>\n",
       "      <td>1</td>\n",
       "      <td>1.0</td>\n",
       "      <td>719</td>\n",
       "      <td>86</td>\n",
       "      <td>1979.0</td>\n",
       "      <td>22600</td>\n",
       "      <td>Challis Station</td>\n",
       "      <td>1900</td>\n",
       "      <td>06-2015\\r</td>\n",
       "      <td>6111</td>\n",
       "      <td>-32.120578</td>\n",
       "      <td>115.993579</td>\n",
       "      <td>KELMSCOTT SENIOR HIGH SCHOOL</td>\n",
       "      <td>1.649178</td>\n",
       "      <td>113.0</td>\n",
       "    </tr>\n",
       "    <tr>\n",
       "      <th>3</th>\n",
       "      <td>1 Albert Street</td>\n",
       "      <td>Bellevue</td>\n",
       "      <td>255000</td>\n",
       "      <td>2</td>\n",
       "      <td>1</td>\n",
       "      <td>2.0</td>\n",
       "      <td>651</td>\n",
       "      <td>59</td>\n",
       "      <td>1953.0</td>\n",
       "      <td>17900</td>\n",
       "      <td>Midland Station</td>\n",
       "      <td>3600</td>\n",
       "      <td>07-2018\\r</td>\n",
       "      <td>6056</td>\n",
       "      <td>-31.900547</td>\n",
       "      <td>116.038009</td>\n",
       "      <td>SWAN VIEW SENIOR HIGH SCHOOL</td>\n",
       "      <td>1.571401</td>\n",
       "      <td>NaN</td>\n",
       "    </tr>\n",
       "    <tr>\n",
       "      <th>4</th>\n",
       "      <td>1 Aman Place</td>\n",
       "      <td>Lockridge</td>\n",
       "      <td>325000</td>\n",
       "      <td>4</td>\n",
       "      <td>1</td>\n",
       "      <td>2.0</td>\n",
       "      <td>466</td>\n",
       "      <td>131</td>\n",
       "      <td>1998.0</td>\n",
       "      <td>11200</td>\n",
       "      <td>Bassendean Station</td>\n",
       "      <td>2000</td>\n",
       "      <td>11-2016\\r</td>\n",
       "      <td>6054</td>\n",
       "      <td>-31.885790</td>\n",
       "      <td>115.947780</td>\n",
       "      <td>KIARA COLLEGE</td>\n",
       "      <td>1.514922</td>\n",
       "      <td>NaN</td>\n",
       "    </tr>\n",
       "  </tbody>\n",
       "</table>\n",
       "</div>"
      ],
      "text/plain": [
       "           ADDRESS      SUBURB   PRICE  BEDROOMS  BATHROOMS  GARAGE  \\\n",
       "0    1 Acorn Place  South Lake  565000         4          2     2.0   \n",
       "1      1 Addis Way       Wandi  365000         3          2     2.0   \n",
       "2  1 Ainsley Court     Camillo  287000         3          1     1.0   \n",
       "3  1 Albert Street    Bellevue  255000         2          1     2.0   \n",
       "4     1 Aman Place   Lockridge  325000         4          1     2.0   \n",
       "\n",
       "   LAND_AREA  FLOOR_AREA  BUILD_YEAR  CBD_DIST               NEAREST_STN  \\\n",
       "0        600         160      2003.0     18300  Cockburn Central Station   \n",
       "1        351         139      2013.0     26900           Kwinana Station   \n",
       "2        719          86      1979.0     22600           Challis Station   \n",
       "3        651          59      1953.0     17900           Midland Station   \n",
       "4        466         131      1998.0     11200        Bassendean Station   \n",
       "\n",
       "   NEAREST_STN_DIST  DATE_SOLD  POSTCODE   LATITUDE   LONGITUDE  \\\n",
       "0              1800  09-2018\\r      6164 -32.115900  115.842450   \n",
       "1              4900  02-2019\\r      6167 -32.193470  115.859554   \n",
       "2              1900  06-2015\\r      6111 -32.120578  115.993579   \n",
       "3              3600  07-2018\\r      6056 -31.900547  116.038009   \n",
       "4              2000  11-2016\\r      6054 -31.885790  115.947780   \n",
       "\n",
       "                    NEAREST_SCH  NEAREST_SCH_DIST  NEAREST_SCH_RANK  \n",
       "0   LAKELAND SENIOR HIGH SCHOOL          0.828339               NaN  \n",
       "1                ATWELL COLLEGE          5.524324             129.0  \n",
       "2  KELMSCOTT SENIOR HIGH SCHOOL          1.649178             113.0  \n",
       "3  SWAN VIEW SENIOR HIGH SCHOOL          1.571401               NaN  \n",
       "4                 KIARA COLLEGE          1.514922               NaN  "
      ]
     },
     "execution_count": 2,
     "metadata": {},
     "output_type": "execute_result"
    }
   ],
   "source": [
    "# Load in the data from the CSV\n",
    "csv_file = \"Data/all_perth_310121.csv\"\n",
    "housing_df = pd.read_csv(csv_file)\n",
    "# Display the dataset\n",
    "housing_df.head()"
   ]
  },
  {
   "cell_type": "markdown",
   "id": "05df8c87",
   "metadata": {},
   "source": [
    "## Explore the data"
   ]
  },
  {
   "cell_type": "code",
   "execution_count": 3,
   "id": "1891d010",
   "metadata": {},
   "outputs": [
    {
     "name": "stdout",
     "output_type": "stream",
     "text": [
      "<class 'pandas.core.frame.DataFrame'>\n",
      "RangeIndex: 33656 entries, 0 to 33655\n",
      "Data columns (total 19 columns):\n",
      " #   Column            Non-Null Count  Dtype  \n",
      "---  ------            --------------  -----  \n",
      " 0   ADDRESS           33656 non-null  object \n",
      " 1   SUBURB            33656 non-null  object \n",
      " 2   PRICE             33656 non-null  int64  \n",
      " 3   BEDROOMS          33656 non-null  int64  \n",
      " 4   BATHROOMS         33656 non-null  int64  \n",
      " 5   GARAGE            31178 non-null  float64\n",
      " 6   LAND_AREA         33656 non-null  int64  \n",
      " 7   FLOOR_AREA        33656 non-null  int64  \n",
      " 8   BUILD_YEAR        30501 non-null  float64\n",
      " 9   CBD_DIST          33656 non-null  int64  \n",
      " 10  NEAREST_STN       33656 non-null  object \n",
      " 11  NEAREST_STN_DIST  33656 non-null  int64  \n",
      " 12  DATE_SOLD         33656 non-null  object \n",
      " 13  POSTCODE          33656 non-null  int64  \n",
      " 14  LATITUDE          33656 non-null  float64\n",
      " 15  LONGITUDE         33656 non-null  float64\n",
      " 16  NEAREST_SCH       33656 non-null  object \n",
      " 17  NEAREST_SCH_DIST  33656 non-null  float64\n",
      " 18  NEAREST_SCH_RANK  22704 non-null  float64\n",
      "dtypes: float64(6), int64(8), object(5)\n",
      "memory usage: 4.9+ MB\n"
     ]
    }
   ],
   "source": [
    "# The info on the dataset\n",
    "housing_df.info()"
   ]
  },
  {
   "cell_type": "code",
   "execution_count": 4,
   "id": "14f018c5",
   "metadata": {},
   "outputs": [
    {
     "data": {
      "text/html": [
       "<div>\n",
       "<style scoped>\n",
       "    .dataframe tbody tr th:only-of-type {\n",
       "        vertical-align: middle;\n",
       "    }\n",
       "\n",
       "    .dataframe tbody tr th {\n",
       "        vertical-align: top;\n",
       "    }\n",
       "\n",
       "    .dataframe thead th {\n",
       "        text-align: right;\n",
       "    }\n",
       "</style>\n",
       "<table border=\"1\" class=\"dataframe\">\n",
       "  <thead>\n",
       "    <tr style=\"text-align: right;\">\n",
       "      <th></th>\n",
       "      <th>count</th>\n",
       "      <th>mean</th>\n",
       "      <th>std</th>\n",
       "      <th>min</th>\n",
       "      <th>25%</th>\n",
       "      <th>50%</th>\n",
       "      <th>75%</th>\n",
       "      <th>max</th>\n",
       "    </tr>\n",
       "  </thead>\n",
       "  <tbody>\n",
       "    <tr>\n",
       "      <th>PRICE</th>\n",
       "      <td>33656.0</td>\n",
       "      <td>637072.005794</td>\n",
       "      <td>355825.632737</td>\n",
       "      <td>51000.000000</td>\n",
       "      <td>410000.000000</td>\n",
       "      <td>535500.000000</td>\n",
       "      <td>760000.000000</td>\n",
       "      <td>2.440000e+06</td>\n",
       "    </tr>\n",
       "    <tr>\n",
       "      <th>BEDROOMS</th>\n",
       "      <td>33656.0</td>\n",
       "      <td>3.659110</td>\n",
       "      <td>0.752038</td>\n",
       "      <td>1.000000</td>\n",
       "      <td>3.000000</td>\n",
       "      <td>4.000000</td>\n",
       "      <td>4.000000</td>\n",
       "      <td>1.000000e+01</td>\n",
       "    </tr>\n",
       "    <tr>\n",
       "      <th>BATHROOMS</th>\n",
       "      <td>33656.0</td>\n",
       "      <td>1.823063</td>\n",
       "      <td>0.587427</td>\n",
       "      <td>1.000000</td>\n",
       "      <td>1.000000</td>\n",
       "      <td>2.000000</td>\n",
       "      <td>2.000000</td>\n",
       "      <td>1.600000e+01</td>\n",
       "    </tr>\n",
       "    <tr>\n",
       "      <th>GARAGE</th>\n",
       "      <td>31178.0</td>\n",
       "      <td>2.199917</td>\n",
       "      <td>1.365225</td>\n",
       "      <td>1.000000</td>\n",
       "      <td>2.000000</td>\n",
       "      <td>2.000000</td>\n",
       "      <td>2.000000</td>\n",
       "      <td>9.900000e+01</td>\n",
       "    </tr>\n",
       "    <tr>\n",
       "      <th>LAND_AREA</th>\n",
       "      <td>33656.0</td>\n",
       "      <td>2740.644016</td>\n",
       "      <td>16693.513215</td>\n",
       "      <td>61.000000</td>\n",
       "      <td>503.000000</td>\n",
       "      <td>682.000000</td>\n",
       "      <td>838.000000</td>\n",
       "      <td>9.999990e+05</td>\n",
       "    </tr>\n",
       "    <tr>\n",
       "      <th>FLOOR_AREA</th>\n",
       "      <td>33656.0</td>\n",
       "      <td>183.501545</td>\n",
       "      <td>72.102982</td>\n",
       "      <td>1.000000</td>\n",
       "      <td>130.000000</td>\n",
       "      <td>172.000000</td>\n",
       "      <td>222.250000</td>\n",
       "      <td>8.700000e+02</td>\n",
       "    </tr>\n",
       "    <tr>\n",
       "      <th>BUILD_YEAR</th>\n",
       "      <td>30501.0</td>\n",
       "      <td>1989.706436</td>\n",
       "      <td>20.964330</td>\n",
       "      <td>1868.000000</td>\n",
       "      <td>1978.000000</td>\n",
       "      <td>1995.000000</td>\n",
       "      <td>2005.000000</td>\n",
       "      <td>2.017000e+03</td>\n",
       "    </tr>\n",
       "    <tr>\n",
       "      <th>CBD_DIST</th>\n",
       "      <td>33656.0</td>\n",
       "      <td>19777.374465</td>\n",
       "      <td>11364.415413</td>\n",
       "      <td>681.000000</td>\n",
       "      <td>11200.000000</td>\n",
       "      <td>17500.000000</td>\n",
       "      <td>26600.000000</td>\n",
       "      <td>5.980000e+04</td>\n",
       "    </tr>\n",
       "    <tr>\n",
       "      <th>NEAREST_STN_DIST</th>\n",
       "      <td>33656.0</td>\n",
       "      <td>4523.371494</td>\n",
       "      <td>4495.064024</td>\n",
       "      <td>46.000000</td>\n",
       "      <td>1800.000000</td>\n",
       "      <td>3200.000000</td>\n",
       "      <td>5300.000000</td>\n",
       "      <td>3.550000e+04</td>\n",
       "    </tr>\n",
       "    <tr>\n",
       "      <th>POSTCODE</th>\n",
       "      <td>33656.0</td>\n",
       "      <td>6089.420074</td>\n",
       "      <td>62.167921</td>\n",
       "      <td>6003.000000</td>\n",
       "      <td>6050.000000</td>\n",
       "      <td>6069.000000</td>\n",
       "      <td>6150.000000</td>\n",
       "      <td>6.558000e+03</td>\n",
       "    </tr>\n",
       "    <tr>\n",
       "      <th>LATITUDE</th>\n",
       "      <td>33656.0</td>\n",
       "      <td>-31.960664</td>\n",
       "      <td>0.177780</td>\n",
       "      <td>-32.472979</td>\n",
       "      <td>-32.068437</td>\n",
       "      <td>-31.933231</td>\n",
       "      <td>-31.843818</td>\n",
       "      <td>-3.145745e+01</td>\n",
       "    </tr>\n",
       "    <tr>\n",
       "      <th>LONGITUDE</th>\n",
       "      <td>33656.0</td>\n",
       "      <td>115.879265</td>\n",
       "      <td>0.118137</td>\n",
       "      <td>115.582730</td>\n",
       "      <td>115.789763</td>\n",
       "      <td>115.854198</td>\n",
       "      <td>115.970722</td>\n",
       "      <td>1.163432e+02</td>\n",
       "    </tr>\n",
       "    <tr>\n",
       "      <th>NEAREST_SCH_DIST</th>\n",
       "      <td>33656.0</td>\n",
       "      <td>1.815268</td>\n",
       "      <td>1.746000</td>\n",
       "      <td>0.070912</td>\n",
       "      <td>0.880568</td>\n",
       "      <td>1.345520</td>\n",
       "      <td>2.097225</td>\n",
       "      <td>2.325437e+01</td>\n",
       "    </tr>\n",
       "    <tr>\n",
       "      <th>NEAREST_SCH_RANK</th>\n",
       "      <td>22704.0</td>\n",
       "      <td>72.672569</td>\n",
       "      <td>40.639795</td>\n",
       "      <td>1.000000</td>\n",
       "      <td>39.000000</td>\n",
       "      <td>68.000000</td>\n",
       "      <td>105.000000</td>\n",
       "      <td>1.390000e+02</td>\n",
       "    </tr>\n",
       "  </tbody>\n",
       "</table>\n",
       "</div>"
      ],
      "text/plain": [
       "                    count           mean            std           min  \\\n",
       "PRICE             33656.0  637072.005794  355825.632737  51000.000000   \n",
       "BEDROOMS          33656.0       3.659110       0.752038      1.000000   \n",
       "BATHROOMS         33656.0       1.823063       0.587427      1.000000   \n",
       "GARAGE            31178.0       2.199917       1.365225      1.000000   \n",
       "LAND_AREA         33656.0    2740.644016   16693.513215     61.000000   \n",
       "FLOOR_AREA        33656.0     183.501545      72.102982      1.000000   \n",
       "BUILD_YEAR        30501.0    1989.706436      20.964330   1868.000000   \n",
       "CBD_DIST          33656.0   19777.374465   11364.415413    681.000000   \n",
       "NEAREST_STN_DIST  33656.0    4523.371494    4495.064024     46.000000   \n",
       "POSTCODE          33656.0    6089.420074      62.167921   6003.000000   \n",
       "LATITUDE          33656.0     -31.960664       0.177780    -32.472979   \n",
       "LONGITUDE         33656.0     115.879265       0.118137    115.582730   \n",
       "NEAREST_SCH_DIST  33656.0       1.815268       1.746000      0.070912   \n",
       "NEAREST_SCH_RANK  22704.0      72.672569      40.639795      1.000000   \n",
       "\n",
       "                            25%            50%            75%           max  \n",
       "PRICE             410000.000000  535500.000000  760000.000000  2.440000e+06  \n",
       "BEDROOMS               3.000000       4.000000       4.000000  1.000000e+01  \n",
       "BATHROOMS              1.000000       2.000000       2.000000  1.600000e+01  \n",
       "GARAGE                 2.000000       2.000000       2.000000  9.900000e+01  \n",
       "LAND_AREA            503.000000     682.000000     838.000000  9.999990e+05  \n",
       "FLOOR_AREA           130.000000     172.000000     222.250000  8.700000e+02  \n",
       "BUILD_YEAR          1978.000000    1995.000000    2005.000000  2.017000e+03  \n",
       "CBD_DIST           11200.000000   17500.000000   26600.000000  5.980000e+04  \n",
       "NEAREST_STN_DIST    1800.000000    3200.000000    5300.000000  3.550000e+04  \n",
       "POSTCODE            6050.000000    6069.000000    6150.000000  6.558000e+03  \n",
       "LATITUDE             -32.068437     -31.933231     -31.843818 -3.145745e+01  \n",
       "LONGITUDE            115.789763     115.854198     115.970722  1.163432e+02  \n",
       "NEAREST_SCH_DIST       0.880568       1.345520       2.097225  2.325437e+01  \n",
       "NEAREST_SCH_RANK      39.000000      68.000000     105.000000  1.390000e+02  "
      ]
     },
     "execution_count": 4,
     "metadata": {},
     "output_type": "execute_result"
    }
   ],
   "source": [
    "# Describe the dataset\n",
    "housing_df.describe().T"
   ]
  },
  {
   "cell_type": "code",
   "execution_count": 5,
   "id": "835fd7ba",
   "metadata": {},
   "outputs": [
    {
     "data": {
      "text/plain": [
       "(33656, 19)"
      ]
     },
     "execution_count": 5,
     "metadata": {},
     "output_type": "execute_result"
    }
   ],
   "source": [
    "# The shape of the dataset\n",
    "housing_df.shape"
   ]
  },
  {
   "cell_type": "code",
   "execution_count": 6,
   "id": "d773bc3e",
   "metadata": {},
   "outputs": [
    {
     "data": {
      "text/plain": [
       "ADDRESS                 0\n",
       "SUBURB                  0\n",
       "PRICE                   0\n",
       "BEDROOMS                0\n",
       "BATHROOMS               0\n",
       "GARAGE               2478\n",
       "LAND_AREA               0\n",
       "FLOOR_AREA              0\n",
       "BUILD_YEAR           3155\n",
       "CBD_DIST                0\n",
       "NEAREST_STN             0\n",
       "NEAREST_STN_DIST        0\n",
       "DATE_SOLD               0\n",
       "POSTCODE                0\n",
       "LATITUDE                0\n",
       "LONGITUDE               0\n",
       "NEAREST_SCH             0\n",
       "NEAREST_SCH_DIST        0\n",
       "NEAREST_SCH_RANK    10952\n",
       "dtype: int64"
      ]
     },
     "execution_count": 6,
     "metadata": {},
     "output_type": "execute_result"
    }
   ],
   "source": [
    "# Count the number of null values\n",
    "housing_df.isnull().sum()"
   ]
  },
  {
   "cell_type": "code",
   "execution_count": 7,
   "id": "20bc443e",
   "metadata": {},
   "outputs": [
    {
     "data": {
      "text/plain": [
       "array([[<AxesSubplot:title={'center':'PRICE'}>,\n",
       "        <AxesSubplot:title={'center':'BEDROOMS'}>,\n",
       "        <AxesSubplot:title={'center':'BATHROOMS'}>,\n",
       "        <AxesSubplot:title={'center':'GARAGE'}>],\n",
       "       [<AxesSubplot:title={'center':'LAND_AREA'}>,\n",
       "        <AxesSubplot:title={'center':'FLOOR_AREA'}>,\n",
       "        <AxesSubplot:title={'center':'BUILD_YEAR'}>,\n",
       "        <AxesSubplot:title={'center':'CBD_DIST'}>],\n",
       "       [<AxesSubplot:title={'center':'NEAREST_STN_DIST'}>,\n",
       "        <AxesSubplot:title={'center':'POSTCODE'}>,\n",
       "        <AxesSubplot:title={'center':'LATITUDE'}>,\n",
       "        <AxesSubplot:title={'center':'LONGITUDE'}>],\n",
       "       [<AxesSubplot:title={'center':'NEAREST_SCH_DIST'}>,\n",
       "        <AxesSubplot:title={'center':'NEAREST_SCH_RANK'}>,\n",
       "        <AxesSubplot:>, <AxesSubplot:>]], dtype=object)"
      ]
     },
     "execution_count": 7,
     "metadata": {},
     "output_type": "execute_result"
    },
    {
     "data": {
      "image/png": "[encoded data removed]",
      "text/plain": [
       "<Figure size 1296x1008 with 16 Axes>"
      ]
     },
     "metadata": {
      "needs_background": "light"
     },
     "output_type": "display_data"
    }
   ],
   "source": [
    "# Show histograms of all of the numerical columns\n",
    "numerical_cols = list(housing_df.select_dtypes(['int64', 'float64']))\n",
    "data_plot = housing_df[numerical_cols].hist(bins=40, figsize=(18,14))\n",
    "data_plot"
   ]
  },
  {
   "cell_type": "code",
   "execution_count": 8,
   "id": "e70fcc95",
   "metadata": {},
   "outputs": [
    {
     "data": {
      "text/plain": [
       "<AxesSubplot:>"
      ]
     },
     "execution_count": 8,
     "metadata": {},
     "output_type": "execute_result"
    },
    {
     "data": {
      "image/png": "[encoded data removed]",
      "text/plain": [
       "<Figure size 1440x720 with 2 Axes>"
      ]
     },
     "metadata": {
      "needs_background": "light"
     },
     "output_type": "display_data"
    }
   ],
   "source": [
    "# Correlation Matix\n",
    "plt.figure(figsize=(20, 10))\n",
    "sns.heatmap(housing_df.corr().abs(),  annot=True)"
   ]
  },
  {
   "cell_type": "markdown",
   "id": "a8324f12",
   "metadata": {},
   "source": [
    "# Exploratory Data Analysis"
   ]
  },
  {
   "cell_type": "markdown",
   "id": "7a36be43",
   "metadata": {},
   "source": [
    "### Address "
   ]
  },
  {
   "cell_type": "code",
   "execution_count": 9,
   "id": "4e64be22",
   "metadata": {},
   "outputs": [
    {
     "data": {
      "text/plain": [
       "33566"
      ]
     },
     "execution_count": 9,
     "metadata": {},
     "output_type": "execute_result"
    }
   ],
   "source": [
    "# Find the number of unique adresses in the dataset\n",
    "housing_df[\"ADDRESS\"].nunique()"
   ]
  },
  {
   "cell_type": "markdown",
   "id": "72936b67",
   "metadata": {},
   "source": [
    "### Suburb"
   ]
  },
  {
   "cell_type": "code",
   "execution_count": 10,
   "id": "3077c8c8",
   "metadata": {},
   "outputs": [
    {
     "data": {
      "text/plain": [
       "Bertram            231\n",
       "Iluka              212\n",
       "Bennett Springs    211\n",
       "Mindarie           209\n",
       "Carramar           208\n",
       "                  ... \n",
       "Munster              1\n",
       "Kwinana Beach        1\n",
       "Welshpool            1\n",
       "Wangara              1\n",
       "Naval Base           1\n",
       "Name: SUBURB, Length: 321, dtype: int64"
      ]
     },
     "execution_count": 10,
     "metadata": {},
     "output_type": "execute_result"
    }
   ],
   "source": [
    "# What is the value count of the suburbs of the dataset\n",
    "suburbs_count = housing_df[\"SUBURB\"].value_counts()\n",
    "suburbs_count"
   ]
  },
  {
   "cell_type": "code",
   "execution_count": 11,
   "id": "81a87ca0",
   "metadata": {},
   "outputs": [
    {
     "data": {
      "text/plain": [
       "321"
      ]
     },
     "execution_count": 11,
     "metadata": {},
     "output_type": "execute_result"
    }
   ],
   "source": [
    "# How many unique suburbs are there in this dataset\n",
    "housing_df[\"SUBURB\"].nunique()"
   ]
  },
  {
   "cell_type": "code",
   "execution_count": 12,
   "id": "e68838c7",
   "metadata": {},
   "outputs": [
    {
     "data": {
      "text/plain": [
       "<AxesSubplot:ylabel='Density'>"
      ]
     },
     "execution_count": 12,
     "metadata": {},
     "output_type": "execute_result"
    },
    {
     "data": {
      "image/png": "[encoded data removed]",
      "text/plain": [
       "<Figure size 432x288 with 1 Axes>"
      ]
     },
     "metadata": {
      "needs_background": "light"
     },
     "output_type": "display_data"
    }
   ],
   "source": [
    "# Bring down to 100 suburbs \n",
    "# what should be the threshold\n",
    "suburbs_count.plot(kind=\"density\")"
   ]
  },
  {
   "cell_type": "markdown",
   "id": "72d5580f",
   "metadata": {},
   "source": [
    "### Price"
   ]
  },
  {
   "cell_type": "code",
   "execution_count": 13,
   "id": "78c6e76c",
   "metadata": {},
   "outputs": [],
   "source": [
    "# put the prices into bins to show how the prices of the dataset are distributed\n",
    "bins = [0, 200000, 500000, 900000, 2500000]\n",
    "# create the labels which each bin will be assigned to\n",
    "labels = [\"< $200000\", \"$200000 - $500000\", \"500000 - 900000\", \"> $900000\"]\n",
    "price_df = housing_df.copy()\n",
    "price_df[\"PRICEGRP\"] = pd.cut(housing_df[\"PRICE\"], bins, labels=labels, right=False)\n",
    "group = price_df[\"PRICEGRP\"].value_counts()"
   ]
  },
  {
   "cell_type": "code",
   "execution_count": 14,
   "id": "459846d1",
   "metadata": {},
   "outputs": [
    {
     "data": {
      "image/png": "[encoded data removed]",
      "text/plain": [
       "<Figure size 432x288 with 1 Axes>"
      ]
     },
     "metadata": {},
     "output_type": "display_data"
    }
   ],
   "source": [
    "# Put these bin into a pie chart\n",
    "plt.pie(group, labels=labels, autopct=\"%1.1f%%\")\n",
    "plt.title(\"Price\")\n",
    "plt.show()"
   ]
  },
  {
   "cell_type": "code",
   "execution_count": 15,
   "id": "7e46106c",
   "metadata": {},
   "outputs": [
    {
     "data": {
      "text/plain": [
       "<AxesSubplot:xlabel='PRICE'>"
      ]
     },
     "execution_count": 15,
     "metadata": {},
     "output_type": "execute_result"
    },
    {
     "data": {
      "image/png": "[encoded data removed]",
      "text/plain": [
       "<Figure size 720x576 with 1 Axes>"
      ]
     },
     "metadata": {
      "needs_background": "light"
     },
     "output_type": "display_data"
    }
   ],
   "source": [
    "# Create a boxplot for the prices of houses to see how the data is distributed\n",
    "plt.figure(figsize=(10,8))\n",
    "sns.boxplot(x=housing_df[\"PRICE\"])"
   ]
  },
  {
   "cell_type": "code",
   "execution_count": 16,
   "id": "0b2acef3",
   "metadata": {},
   "outputs": [],
   "source": [
    "# Look to remove outliers"
   ]
  },
  {
   "cell_type": "markdown",
   "id": "7e8eb2f8",
   "metadata": {},
   "source": [
    "### Bedrooms"
   ]
  },
  {
   "cell_type": "code",
   "execution_count": 17,
   "id": "233f07da",
   "metadata": {},
   "outputs": [
    {
     "data": {
      "text/plain": [
       "4     17635\n",
       "3     11617\n",
       "5      2476\n",
       "2      1457\n",
       "6       296\n",
       "1        95\n",
       "7        53\n",
       "8        21\n",
       "9         4\n",
       "10        2\n",
       "Name: BEDROOMS, dtype: int64"
      ]
     },
     "execution_count": 17,
     "metadata": {},
     "output_type": "execute_result"
    }
   ],
   "source": [
    "# What is the value_counts for the number of bedrooms\n",
    "bedrooms = housing_df[\"BEDROOMS\"].value_counts()\n",
    "bedrooms"
   ]
  },
  {
   "cell_type": "code",
   "execution_count": 18,
   "id": "c744e18c",
   "metadata": {},
   "outputs": [
    {
     "data": {
      "text/plain": [
       "<AxesSubplot:title={'center':'Number of Bedrooms'}>"
      ]
     },
     "execution_count": 18,
     "metadata": {},
     "output_type": "execute_result"
    },
    {
     "data": {
      "image/png": "[encoded data removed]",
      "text/plain": [
       "<Figure size 432x288 with 1 Axes>"
      ]
     },
     "metadata": {
      "needs_background": "light"
     },
     "output_type": "display_data"
    }
   ],
   "source": [
    "# Bar plot of the value_counts\n",
    "bedrooms.plot(kind=\"bar\", title=\"Number of Bedrooms\")"
   ]
  },
  {
   "cell_type": "code",
   "execution_count": 19,
   "id": "7b0535c4",
   "metadata": {},
   "outputs": [],
   "source": [
    "import numpy as np\n",
    "housing_df[\"Bed_Group\"] = np.where(housing_df['BEDROOMS'] >=5, \">=5\", housing_df['BEDROOMS'])\n",
    "housing_df[\"Bed_Group\"] = np.where(housing_df['Bed_Group'].isin([\"1\", \"2\"]), \"<=2\", housing_df['Bed_Group'])\n"
   ]
  },
  {
   "cell_type": "code",
   "execution_count": 20,
   "id": "04ef313f",
   "metadata": {},
   "outputs": [
    {
     "data": {
      "text/plain": [
       "4      17635\n",
       "3      11617\n",
       ">=5     2852\n",
       "<=2     1552\n",
       "Name: Bed_Group, dtype: int64"
      ]
     },
     "execution_count": 20,
     "metadata": {},
     "output_type": "execute_result"
    }
   ],
   "source": [
    "housing_df[\"Bed_Group\"].value_counts()"
   ]
  },
  {
   "cell_type": "code",
   "execution_count": 21,
   "id": "a64bb108",
   "metadata": {},
   "outputs": [
    {
     "data": {
      "text/plain": [
       "Bed_Group\n",
       "3      544965.001722\n",
       "4      660878.711823\n",
       "<=2    552470.752577\n",
       ">=5    911082.156732\n",
       "Name: PRICE, dtype: float64"
      ]
     },
     "execution_count": 21,
     "metadata": {},
     "output_type": "execute_result"
    }
   ],
   "source": [
    "bed_groups_price = housing_df.groupby(\"Bed_Group\").mean()[\"PRICE\"]\n",
    "bed_groups_price"
   ]
  },
  {
   "cell_type": "code",
   "execution_count": 22,
   "id": "d7a2506c",
   "metadata": {},
   "outputs": [
    {
     "ename": "ValueError",
     "evalue": "'c' argument must be a color, a sequence of colors, or a sequence of numbers, not 0          4\n1          3\n2          3\n3        <=2\n4          4\n        ... \n33651      4\n33652      3\n33653      3\n33654      3\n33655      3\nName: Bed_Group, Length: 33656, dtype: object",
     "output_type": "error",
     "traceback": [
      "\u001b[1;31m---------------------------------------------------------------------------\u001b[0m",
      "\u001b[1;31mValueError\u001b[0m                                Traceback (most recent call last)",
      "File \u001b[1;32m~\\anaconda3\\lib\\site-packages\\matplotlib\\axes\\_axes.py:4221\u001b[0m, in \u001b[0;36mAxes._parse_scatter_color_args\u001b[1;34m(c, edgecolors, kwargs, xsize, get_next_color_func)\u001b[0m\n\u001b[0;32m   4220\u001b[0m \u001b[38;5;28;01mtry\u001b[39;00m:  \u001b[38;5;66;03m# Is 'c' acceptable as PathCollection facecolors?\u001b[39;00m\n\u001b[1;32m-> 4221\u001b[0m     colors \u001b[38;5;241m=\u001b[39m \u001b[43mmcolors\u001b[49m\u001b[38;5;241;43m.\u001b[39;49m\u001b[43mto_rgba_array\u001b[49m\u001b[43m(\u001b[49m\u001b[43mc\u001b[49m\u001b[43m)\u001b[49m\n\u001b[0;32m   4222\u001b[0m \u001b[38;5;28;01mexcept\u001b[39;00m (\u001b[38;5;167;01mTypeError\u001b[39;00m, \u001b[38;5;167;01mValueError\u001b[39;00m) \u001b[38;5;28;01mas\u001b[39;00m err:\n",
      "File \u001b[1;32m~\\anaconda3\\lib\\site-packages\\matplotlib\\colors.py:377\u001b[0m, in \u001b[0;36mto_rgba_array\u001b[1;34m(c, alpha)\u001b[0m\n\u001b[0;32m    376\u001b[0m \u001b[38;5;28;01melse\u001b[39;00m:\n\u001b[1;32m--> 377\u001b[0m     rgba \u001b[38;5;241m=\u001b[39m np\u001b[38;5;241m.\u001b[39marray([to_rgba(cc) \u001b[38;5;28;01mfor\u001b[39;00m cc \u001b[38;5;129;01min\u001b[39;00m c])\n\u001b[0;32m    379\u001b[0m \u001b[38;5;28;01mif\u001b[39;00m alpha \u001b[38;5;129;01mis\u001b[39;00m \u001b[38;5;129;01mnot\u001b[39;00m \u001b[38;5;28;01mNone\u001b[39;00m:\n",
      "File \u001b[1;32m~\\anaconda3\\lib\\site-packages\\matplotlib\\colors.py:377\u001b[0m, in \u001b[0;36m<listcomp>\u001b[1;34m(.0)\u001b[0m\n\u001b[0;32m    376\u001b[0m \u001b[38;5;28;01melse\u001b[39;00m:\n\u001b[1;32m--> 377\u001b[0m     rgba \u001b[38;5;241m=\u001b[39m np\u001b[38;5;241m.\u001b[39marray([\u001b[43mto_rgba\u001b[49m\u001b[43m(\u001b[49m\u001b[43mcc\u001b[49m\u001b[43m)\u001b[49m \u001b[38;5;28;01mfor\u001b[39;00m cc \u001b[38;5;129;01min\u001b[39;00m c])\n\u001b[0;32m    379\u001b[0m \u001b[38;5;28;01mif\u001b[39;00m alpha \u001b[38;5;129;01mis\u001b[39;00m \u001b[38;5;129;01mnot\u001b[39;00m \u001b[38;5;28;01mNone\u001b[39;00m:\n",
      "File \u001b[1;32m~\\anaconda3\\lib\\site-packages\\matplotlib\\colors.py:187\u001b[0m, in \u001b[0;36mto_rgba\u001b[1;34m(c, alpha)\u001b[0m\n\u001b[0;32m    186\u001b[0m \u001b[38;5;28;01mif\u001b[39;00m rgba \u001b[38;5;129;01mis\u001b[39;00m \u001b[38;5;28;01mNone\u001b[39;00m:  \u001b[38;5;66;03m# Suppress exception chaining of cache lookup failure.\u001b[39;00m\n\u001b[1;32m--> 187\u001b[0m     rgba \u001b[38;5;241m=\u001b[39m \u001b[43m_to_rgba_no_colorcycle\u001b[49m\u001b[43m(\u001b[49m\u001b[43mc\u001b[49m\u001b[43m,\u001b[49m\u001b[43m \u001b[49m\u001b[43malpha\u001b[49m\u001b[43m)\u001b[49m\n\u001b[0;32m    188\u001b[0m     \u001b[38;5;28;01mtry\u001b[39;00m:\n",
      "File \u001b[1;32m~\\anaconda3\\lib\\site-packages\\matplotlib\\colors.py:258\u001b[0m, in \u001b[0;36m_to_rgba_no_colorcycle\u001b[1;34m(c, alpha)\u001b[0m\n\u001b[0;32m    257\u001b[0m \u001b[38;5;28;01mif\u001b[39;00m \u001b[38;5;129;01mnot\u001b[39;00m (\u001b[38;5;241m0\u001b[39m \u001b[38;5;241m<\u001b[39m\u001b[38;5;241m=\u001b[39m c \u001b[38;5;241m<\u001b[39m\u001b[38;5;241m=\u001b[39m \u001b[38;5;241m1\u001b[39m):\n\u001b[1;32m--> 258\u001b[0m     \u001b[38;5;28;01mraise\u001b[39;00m \u001b[38;5;167;01mValueError\u001b[39;00m(\n\u001b[0;32m    259\u001b[0m         \u001b[38;5;124mf\u001b[39m\u001b[38;5;124m\"\u001b[39m\u001b[38;5;124mInvalid string grayscale value \u001b[39m\u001b[38;5;132;01m{\u001b[39;00morig_c\u001b[38;5;132;01m!r}\u001b[39;00m\u001b[38;5;124m. \u001b[39m\u001b[38;5;124m\"\u001b[39m\n\u001b[0;32m    260\u001b[0m         \u001b[38;5;124mf\u001b[39m\u001b[38;5;124m\"\u001b[39m\u001b[38;5;124mValue must be within 0-1 range\u001b[39m\u001b[38;5;124m\"\u001b[39m)\n\u001b[0;32m    261\u001b[0m \u001b[38;5;28;01mreturn\u001b[39;00m c, c, c, alpha \u001b[38;5;28;01mif\u001b[39;00m alpha \u001b[38;5;129;01mis\u001b[39;00m \u001b[38;5;129;01mnot\u001b[39;00m \u001b[38;5;28;01mNone\u001b[39;00m \u001b[38;5;28;01melse\u001b[39;00m \u001b[38;5;241m1.\u001b[39m\n",
      "\u001b[1;31mValueError\u001b[0m: Invalid string grayscale value '4'. Value must be within 0-1 range",
      "\nThe above exception was the direct cause of the following exception:\n",
      "\u001b[1;31mValueError\u001b[0m                                Traceback (most recent call last)",
      "Input \u001b[1;32mIn [22]\u001b[0m, in \u001b[0;36m<cell line: 1>\u001b[1;34m()\u001b[0m\n\u001b[1;32m----> 1\u001b[0m \u001b[43mplt\u001b[49m\u001b[38;5;241;43m.\u001b[39;49m\u001b[43mscatter\u001b[49m\u001b[43m(\u001b[49m\u001b[43mx\u001b[49m\u001b[38;5;241;43m=\u001b[39;49m\u001b[43mhousing_df\u001b[49m\u001b[43m[\u001b[49m\u001b[38;5;124;43m\"\u001b[39;49m\u001b[38;5;124;43mLONGITUDE\u001b[39;49m\u001b[38;5;124;43m\"\u001b[39;49m\u001b[43m]\u001b[49m\u001b[43m,\u001b[49m\u001b[43m \u001b[49m\u001b[43my\u001b[49m\u001b[38;5;241;43m=\u001b[39;49m\u001b[43mhousing_df\u001b[49m\u001b[43m[\u001b[49m\u001b[38;5;124;43m\"\u001b[39;49m\u001b[38;5;124;43mLATITUDE\u001b[39;49m\u001b[38;5;124;43m\"\u001b[39;49m\u001b[43m]\u001b[49m\u001b[43m,\u001b[49m\u001b[43m \u001b[49m\u001b[43mc\u001b[49m\u001b[38;5;241;43m=\u001b[39;49m\u001b[43m \u001b[49m\u001b[43mhousing_df\u001b[49m\u001b[43m[\u001b[49m\u001b[38;5;124;43m\"\u001b[39;49m\u001b[38;5;124;43mBed_Group\u001b[39;49m\u001b[38;5;124;43m\"\u001b[39;49m\u001b[43m]\u001b[49m\u001b[43m,\u001b[49m\u001b[43m \u001b[49m\u001b[43mcmap\u001b[49m\u001b[38;5;241;43m=\u001b[39;49m\u001b[43m \u001b[49m\u001b[38;5;124;43m\"\u001b[39;49m\u001b[38;5;124;43mautumn\u001b[39;49m\u001b[38;5;124;43m\"\u001b[39;49m\u001b[43m)\u001b[49m\n",
      "File \u001b[1;32m~\\anaconda3\\lib\\site-packages\\matplotlib\\pyplot.py:2807\u001b[0m, in \u001b[0;36mscatter\u001b[1;34m(x, y, s, c, marker, cmap, norm, vmin, vmax, alpha, linewidths, edgecolors, plotnonfinite, data, **kwargs)\u001b[0m\n\u001b[0;32m   2802\u001b[0m \u001b[38;5;129m@_copy_docstring_and_deprecators\u001b[39m(Axes\u001b[38;5;241m.\u001b[39mscatter)\n\u001b[0;32m   2803\u001b[0m \u001b[38;5;28;01mdef\u001b[39;00m \u001b[38;5;21mscatter\u001b[39m(\n\u001b[0;32m   2804\u001b[0m         x, y, s\u001b[38;5;241m=\u001b[39m\u001b[38;5;28;01mNone\u001b[39;00m, c\u001b[38;5;241m=\u001b[39m\u001b[38;5;28;01mNone\u001b[39;00m, marker\u001b[38;5;241m=\u001b[39m\u001b[38;5;28;01mNone\u001b[39;00m, cmap\u001b[38;5;241m=\u001b[39m\u001b[38;5;28;01mNone\u001b[39;00m, norm\u001b[38;5;241m=\u001b[39m\u001b[38;5;28;01mNone\u001b[39;00m,\n\u001b[0;32m   2805\u001b[0m         vmin\u001b[38;5;241m=\u001b[39m\u001b[38;5;28;01mNone\u001b[39;00m, vmax\u001b[38;5;241m=\u001b[39m\u001b[38;5;28;01mNone\u001b[39;00m, alpha\u001b[38;5;241m=\u001b[39m\u001b[38;5;28;01mNone\u001b[39;00m, linewidths\u001b[38;5;241m=\u001b[39m\u001b[38;5;28;01mNone\u001b[39;00m, \u001b[38;5;241m*\u001b[39m,\n\u001b[0;32m   2806\u001b[0m         edgecolors\u001b[38;5;241m=\u001b[39m\u001b[38;5;28;01mNone\u001b[39;00m, plotnonfinite\u001b[38;5;241m=\u001b[39m\u001b[38;5;28;01mFalse\u001b[39;00m, data\u001b[38;5;241m=\u001b[39m\u001b[38;5;28;01mNone\u001b[39;00m, \u001b[38;5;241m*\u001b[39m\u001b[38;5;241m*\u001b[39mkwargs):\n\u001b[1;32m-> 2807\u001b[0m     __ret \u001b[38;5;241m=\u001b[39m gca()\u001b[38;5;241m.\u001b[39mscatter(\n\u001b[0;32m   2808\u001b[0m         x, y, s\u001b[38;5;241m=\u001b[39ms, c\u001b[38;5;241m=\u001b[39mc, marker\u001b[38;5;241m=\u001b[39mmarker, cmap\u001b[38;5;241m=\u001b[39mcmap, norm\u001b[38;5;241m=\u001b[39mnorm,\n\u001b[0;32m   2809\u001b[0m         vmin\u001b[38;5;241m=\u001b[39mvmin, vmax\u001b[38;5;241m=\u001b[39mvmax, alpha\u001b[38;5;241m=\u001b[39malpha, linewidths\u001b[38;5;241m=\u001b[39mlinewidths,\n\u001b[0;32m   2810\u001b[0m         edgecolors\u001b[38;5;241m=\u001b[39medgecolors, plotnonfinite\u001b[38;5;241m=\u001b[39mplotnonfinite,\n\u001b[0;32m   2811\u001b[0m         \u001b[38;5;241m*\u001b[39m\u001b[38;5;241m*\u001b[39m({\u001b[38;5;124m\"\u001b[39m\u001b[38;5;124mdata\u001b[39m\u001b[38;5;124m\"\u001b[39m: data} \u001b[38;5;28;01mif\u001b[39;00m data \u001b[38;5;129;01mis\u001b[39;00m \u001b[38;5;129;01mnot\u001b[39;00m \u001b[38;5;28;01mNone\u001b[39;00m \u001b[38;5;28;01melse\u001b[39;00m {}), \u001b[38;5;241m*\u001b[39m\u001b[38;5;241m*\u001b[39mkwargs)\n\u001b[0;32m   2812\u001b[0m     sci(__ret)\n\u001b[0;32m   2813\u001b[0m     \u001b[38;5;28;01mreturn\u001b[39;00m __ret\n",
      "File \u001b[1;32m~\\anaconda3\\lib\\site-packages\\matplotlib\\__init__.py:1412\u001b[0m, in \u001b[0;36m_preprocess_data.<locals>.inner\u001b[1;34m(ax, data, *args, **kwargs)\u001b[0m\n\u001b[0;32m   1409\u001b[0m \u001b[38;5;129m@functools\u001b[39m\u001b[38;5;241m.\u001b[39mwraps(func)\n\u001b[0;32m   1410\u001b[0m \u001b[38;5;28;01mdef\u001b[39;00m \u001b[38;5;21minner\u001b[39m(ax, \u001b[38;5;241m*\u001b[39margs, data\u001b[38;5;241m=\u001b[39m\u001b[38;5;28;01mNone\u001b[39;00m, \u001b[38;5;241m*\u001b[39m\u001b[38;5;241m*\u001b[39mkwargs):\n\u001b[0;32m   1411\u001b[0m     \u001b[38;5;28;01mif\u001b[39;00m data \u001b[38;5;129;01mis\u001b[39;00m \u001b[38;5;28;01mNone\u001b[39;00m:\n\u001b[1;32m-> 1412\u001b[0m         \u001b[38;5;28;01mreturn\u001b[39;00m func(ax, \u001b[38;5;241m*\u001b[39m\u001b[38;5;28mmap\u001b[39m(sanitize_sequence, args), \u001b[38;5;241m*\u001b[39m\u001b[38;5;241m*\u001b[39mkwargs)\n\u001b[0;32m   1414\u001b[0m     bound \u001b[38;5;241m=\u001b[39m new_sig\u001b[38;5;241m.\u001b[39mbind(ax, \u001b[38;5;241m*\u001b[39margs, \u001b[38;5;241m*\u001b[39m\u001b[38;5;241m*\u001b[39mkwargs)\n\u001b[0;32m   1415\u001b[0m     auto_label \u001b[38;5;241m=\u001b[39m (bound\u001b[38;5;241m.\u001b[39marguments\u001b[38;5;241m.\u001b[39mget(label_namer)\n\u001b[0;32m   1416\u001b[0m                   \u001b[38;5;129;01mor\u001b[39;00m bound\u001b[38;5;241m.\u001b[39mkwargs\u001b[38;5;241m.\u001b[39mget(label_namer))\n",
      "File \u001b[1;32m~\\anaconda3\\lib\\site-packages\\matplotlib\\axes\\_axes.py:4387\u001b[0m, in \u001b[0;36mAxes.scatter\u001b[1;34m(self, x, y, s, c, marker, cmap, norm, vmin, vmax, alpha, linewidths, edgecolors, plotnonfinite, **kwargs)\u001b[0m\n\u001b[0;32m   4384\u001b[0m \u001b[38;5;28;01mif\u001b[39;00m edgecolors \u001b[38;5;129;01mis\u001b[39;00m \u001b[38;5;28;01mNone\u001b[39;00m:\n\u001b[0;32m   4385\u001b[0m     orig_edgecolor \u001b[38;5;241m=\u001b[39m kwargs\u001b[38;5;241m.\u001b[39mget(\u001b[38;5;124m'\u001b[39m\u001b[38;5;124medgecolor\u001b[39m\u001b[38;5;124m'\u001b[39m, \u001b[38;5;28;01mNone\u001b[39;00m)\n\u001b[0;32m   4386\u001b[0m c, colors, edgecolors \u001b[38;5;241m=\u001b[39m \\\n\u001b[1;32m-> 4387\u001b[0m     \u001b[38;5;28;43mself\u001b[39;49m\u001b[38;5;241;43m.\u001b[39;49m\u001b[43m_parse_scatter_color_args\u001b[49m\u001b[43m(\u001b[49m\n\u001b[0;32m   4388\u001b[0m \u001b[43m        \u001b[49m\u001b[43mc\u001b[49m\u001b[43m,\u001b[49m\u001b[43m \u001b[49m\u001b[43medgecolors\u001b[49m\u001b[43m,\u001b[49m\u001b[43m \u001b[49m\u001b[43mkwargs\u001b[49m\u001b[43m,\u001b[49m\u001b[43m \u001b[49m\u001b[43mx\u001b[49m\u001b[38;5;241;43m.\u001b[39;49m\u001b[43msize\u001b[49m\u001b[43m,\u001b[49m\n\u001b[0;32m   4389\u001b[0m \u001b[43m        \u001b[49m\u001b[43mget_next_color_func\u001b[49m\u001b[38;5;241;43m=\u001b[39;49m\u001b[38;5;28;43mself\u001b[39;49m\u001b[38;5;241;43m.\u001b[39;49m\u001b[43m_get_patches_for_fill\u001b[49m\u001b[38;5;241;43m.\u001b[39;49m\u001b[43mget_next_color\u001b[49m\u001b[43m)\u001b[49m\n\u001b[0;32m   4391\u001b[0m \u001b[38;5;28;01mif\u001b[39;00m plotnonfinite \u001b[38;5;129;01mand\u001b[39;00m colors \u001b[38;5;129;01mis\u001b[39;00m \u001b[38;5;28;01mNone\u001b[39;00m:\n\u001b[0;32m   4392\u001b[0m     c \u001b[38;5;241m=\u001b[39m np\u001b[38;5;241m.\u001b[39mma\u001b[38;5;241m.\u001b[39mmasked_invalid(c)\n",
      "File \u001b[1;32m~\\anaconda3\\lib\\site-packages\\matplotlib\\axes\\_axes.py:4230\u001b[0m, in \u001b[0;36mAxes._parse_scatter_color_args\u001b[1;34m(c, edgecolors, kwargs, xsize, get_next_color_func)\u001b[0m\n\u001b[0;32m   4227\u001b[0m             \u001b[38;5;28;01mraise\u001b[39;00m invalid_shape_exception(c\u001b[38;5;241m.\u001b[39msize, xsize) \u001b[38;5;28;01mfrom\u001b[39;00m \u001b[38;5;21;01merr\u001b[39;00m\n\u001b[0;32m   4228\u001b[0m         \u001b[38;5;66;03m# Both the mapping *and* the RGBA conversion failed: pretty\u001b[39;00m\n\u001b[0;32m   4229\u001b[0m         \u001b[38;5;66;03m# severe failure => one may appreciate a verbose feedback.\u001b[39;00m\n\u001b[1;32m-> 4230\u001b[0m         \u001b[38;5;28;01mraise\u001b[39;00m \u001b[38;5;167;01mValueError\u001b[39;00m(\n\u001b[0;32m   4231\u001b[0m             \u001b[38;5;124mf\u001b[39m\u001b[38;5;124m\"\u001b[39m\u001b[38;5;124m'\u001b[39m\u001b[38;5;124mc\u001b[39m\u001b[38;5;124m'\u001b[39m\u001b[38;5;124m argument must be a color, a sequence of colors, \u001b[39m\u001b[38;5;124m\"\u001b[39m\n\u001b[0;32m   4232\u001b[0m             \u001b[38;5;124mf\u001b[39m\u001b[38;5;124m\"\u001b[39m\u001b[38;5;124mor a sequence of numbers, not \u001b[39m\u001b[38;5;132;01m{\u001b[39;00mc\u001b[38;5;132;01m}\u001b[39;00m\u001b[38;5;124m\"\u001b[39m) \u001b[38;5;28;01mfrom\u001b[39;00m \u001b[38;5;21;01merr\u001b[39;00m\n\u001b[0;32m   4233\u001b[0m \u001b[38;5;28;01melse\u001b[39;00m:\n\u001b[0;32m   4234\u001b[0m     \u001b[38;5;28;01mif\u001b[39;00m \u001b[38;5;28mlen\u001b[39m(colors) \u001b[38;5;129;01mnot\u001b[39;00m \u001b[38;5;129;01min\u001b[39;00m (\u001b[38;5;241m0\u001b[39m, \u001b[38;5;241m1\u001b[39m, xsize):\n\u001b[0;32m   4235\u001b[0m         \u001b[38;5;66;03m# NB: remember that a single color is also acceptable.\u001b[39;00m\n\u001b[0;32m   4236\u001b[0m         \u001b[38;5;66;03m# Besides *colors* will be an empty array if c == 'none'.\u001b[39;00m\n",
      "\u001b[1;31mValueError\u001b[0m: 'c' argument must be a color, a sequence of colors, or a sequence of numbers, not 0          4\n1          3\n2          3\n3        <=2\n4          4\n        ... \n33651      4\n33652      3\n33653      3\n33654      3\n33655      3\nName: Bed_Group, Length: 33656, dtype: object"
     ]
    },
    {
     "data": {
      "image/png": "[encoded data removed]",
      "text/plain": [
       "<Figure size 432x288 with 1 Axes>"
      ]
     },
     "metadata": {
      "needs_background": "light"
     },
     "output_type": "display_data"
    }
   ],
   "source": [
    "plt.scatter(x=housing_df[\"LONGITUDE\"], y=housing_df[\"LATITUDE\"], c= housing_df[\"Bed_Group\"], cmap= \"autumn\")\n",
    "# https://towardsdatascience.com/easiest-way-to-plot-on-a-world-map-with-pandas-and-geopandas-325f6024949f\n"
   ]
  },
  {
   "cell_type": "markdown",
   "id": "f1b45294",
   "metadata": {},
   "source": [
    "### Garage"
   ]
  },
  {
   "cell_type": "code",
   "execution_count": 26,
   "id": "34d1c3e5",
   "metadata": {},
   "outputs": [
    {
     "data": {
      "text/plain": [
       "2.0     20724\n",
       "1.0      5290\n",
       "3.0      2042\n",
       "4.0      1949\n",
       "6.0       466\n",
       "5.0       362\n",
       "8.0       129\n",
       "7.0        97\n",
       "12.0       30\n",
       "10.0       26\n",
       "9.0        17\n",
       "14.0       13\n",
       "13.0        8\n",
       "11.0        7\n",
       "16.0        4\n",
       "18.0        3\n",
       "20.0        3\n",
       "32.0        1\n",
       "17.0        1\n",
       "21.0        1\n",
       "99.0        1\n",
       "26.0        1\n",
       "22.0        1\n",
       "50.0        1\n",
       "31.0        1\n",
       "Name: GARAGE, dtype: int64"
      ]
     },
     "execution_count": 26,
     "metadata": {},
     "output_type": "execute_result"
    }
   ],
   "source": [
    "# Garage value counts\n",
    "garage = housing_df[\"GARAGE\"].value_counts()\n",
    "garage"
   ]
  },
  {
   "cell_type": "code",
   "execution_count": 27,
   "id": "57cf778a",
   "metadata": {},
   "outputs": [
    {
     "data": {
      "text/plain": [
       "<AxesSubplot:title={'center':'Number of Garage Units'}>"
      ]
     },
     "execution_count": 27,
     "metadata": {},
     "output_type": "execute_result"
    },
    {
     "data": {
      "image/png": "[encoded data removed]",
      "text/plain": [
       "<Figure size 432x288 with 1 Axes>"
      ]
     },
     "metadata": {
      "needs_background": "light"
     },
     "output_type": "display_data"
    }
   ],
   "source": [
    "# Plot this into a bar plot\n",
    "garage.plot(kind=\"bar\", title=\"Number of Garage Units\")"
   ]
  },
  {
   "cell_type": "code",
   "execution_count": 38,
   "id": "df23a953",
   "metadata": {},
   "outputs": [
    {
     "data": {
      "text/plain": [
       "<AxesSubplot:xlabel='GARAGE'>"
      ]
     },
     "execution_count": 38,
     "metadata": {},
     "output_type": "execute_result"
    },
    {
     "data": {
      "image/png": "[encoded data removed]",
      "text/plain": [
       "<Figure size 720x576 with 1 Axes>"
      ]
     },
     "metadata": {
      "needs_background": "light"
     },
     "output_type": "display_data"
    }
   ],
   "source": [
    "# Create a box plot to show the outliers\n",
    "plt.figure(figsize=(10,8))\n",
    "sns.boxplot(x=housing_df[\"GARAGE\"])"
   ]
  },
  {
   "cell_type": "code",
   "execution_count": 29,
   "id": "c9ebed4a",
   "metadata": {},
   "outputs": [],
   "source": [
    "# Need to reduce this down "
   ]
  },
  {
   "cell_type": "markdown",
   "id": "48e0116c",
   "metadata": {},
   "source": [
    "### Land Area"
   ]
  },
  {
   "cell_type": "code",
   "execution_count": 30,
   "id": "2f224e21",
   "metadata": {},
   "outputs": [
    {
     "data": {
      "text/plain": [
       "<AxesSubplot:xlabel='LAND_AREA'>"
      ]
     },
     "execution_count": 30,
     "metadata": {},
     "output_type": "execute_result"
    },
    {
     "data": {
      "image/png": "[encoded data removed]",
      "text/plain": [
       "<Figure size 720x576 with 1 Axes>"
      ]
     },
     "metadata": {
      "needs_background": "light"
     },
     "output_type": "display_data"
    }
   ],
   "source": [
    "# Create a boxplot highlighting the Land Area outliers\n",
    "plt.figure(figsize=(10,8))\n",
    "sns.boxenplot(x=housing_df[\"LAND_AREA\"])"
   ]
  },
  {
   "cell_type": "code",
   "execution_count": 31,
   "id": "6944da34",
   "metadata": {},
   "outputs": [
    {
     "data": {
      "text/plain": [
       "{'whiskers': [<matplotlib.lines.Line2D at 0x12492563e20>,\n",
       "  <matplotlib.lines.Line2D at 0x12492575130>],\n",
       " 'caps': [<matplotlib.lines.Line2D at 0x12492575400>,\n",
       "  <matplotlib.lines.Line2D at 0x124925756d0>],\n",
       " 'boxes': [<matplotlib.lines.Line2D at 0x12492563af0>],\n",
       " 'medians': [<matplotlib.lines.Line2D at 0x124925759a0>],\n",
       " 'fliers': [],\n",
       " 'means': []}"
      ]
     },
     "execution_count": 31,
     "metadata": {},
     "output_type": "execute_result"
    },
    {
     "data": {
      "image/png": "[encoded data removed]",
      "text/plain": [
       "<Figure size 432x288 with 1 Axes>"
      ]
     },
     "metadata": {
      "needs_background": "light"
     },
     "output_type": "display_data"
    }
   ],
   "source": [
    "# Outliers so big that it is effecting the box plot\n",
    "# Can look to create a box plot without outliers\n",
    "# https://stackoverflow.com/questions/22028064/matplotlib-boxplot-without-outliers\n",
    "plt.boxplot(housing_df[\"LAND_AREA\"], showfliers=False)"
   ]
  },
  {
   "cell_type": "code",
   "execution_count": 32,
   "id": "f85cf724",
   "metadata": {},
   "outputs": [
    {
     "data": {
      "text/plain": [
       "48970    1\n",
       "22081    1\n",
       "5507     1\n",
       "13745    1\n",
       "21135    1\n",
       "        ..\n",
       "1960     1\n",
       "6452     1\n",
       "1624     1\n",
       "5090     1\n",
       "1192     1\n",
       "Name: LAND_AREA, Length: 2580, dtype: int64"
      ]
     },
     "execution_count": 32,
     "metadata": {},
     "output_type": "execute_result"
    }
   ],
   "source": [
    "land_area = housing_df[\"LAND_AREA\"].value_counts()\n",
    "land_area[land_area <2]"
   ]
  },
  {
   "cell_type": "code",
   "execution_count": 33,
   "id": "2a701c5e",
   "metadata": {},
   "outputs": [
    {
     "data": {
      "text/html": [
       "<div>\n",
       "<style scoped>\n",
       "    .dataframe tbody tr th:only-of-type {\n",
       "        vertical-align: middle;\n",
       "    }\n",
       "\n",
       "    .dataframe tbody tr th {\n",
       "        vertical-align: top;\n",
       "    }\n",
       "\n",
       "    .dataframe thead th {\n",
       "        text-align: right;\n",
       "    }\n",
       "</style>\n",
       "<table border=\"1\" class=\"dataframe\">\n",
       "  <thead>\n",
       "    <tr style=\"text-align: right;\">\n",
       "      <th></th>\n",
       "      <th>ADDRESS</th>\n",
       "      <th>SUBURB</th>\n",
       "      <th>PRICE</th>\n",
       "      <th>BEDROOMS</th>\n",
       "      <th>BATHROOMS</th>\n",
       "      <th>GARAGE</th>\n",
       "      <th>LAND_AREA</th>\n",
       "      <th>FLOOR_AREA</th>\n",
       "      <th>BUILD_YEAR</th>\n",
       "      <th>CBD_DIST</th>\n",
       "      <th>NEAREST_STN</th>\n",
       "      <th>NEAREST_STN_DIST</th>\n",
       "      <th>DATE_SOLD</th>\n",
       "      <th>POSTCODE</th>\n",
       "      <th>LATITUDE</th>\n",
       "      <th>LONGITUDE</th>\n",
       "      <th>NEAREST_SCH</th>\n",
       "      <th>NEAREST_SCH_DIST</th>\n",
       "      <th>NEAREST_SCH_RANK</th>\n",
       "      <th>Bed_Group</th>\n",
       "    </tr>\n",
       "  </thead>\n",
       "  <tbody>\n",
       "  </tbody>\n",
       "</table>\n",
       "</div>"
      ],
      "text/plain": [
       "Empty DataFrame\n",
       "Columns: [ADDRESS, SUBURB, PRICE, BEDROOMS, BATHROOMS, GARAGE, LAND_AREA, FLOOR_AREA, BUILD_YEAR, CBD_DIST, NEAREST_STN, NEAREST_STN_DIST, DATE_SOLD, POSTCODE, LATITUDE, LONGITUDE, NEAREST_SCH, NEAREST_SCH_DIST, NEAREST_SCH_RANK, Bed_Group]\n",
       "Index: []"
      ]
     },
     "execution_count": 33,
     "metadata": {},
     "output_type": "execute_result"
    }
   ],
   "source": [
    "housing_df[housing_df[\"LAND_AREA\"] == 1].head()"
   ]
  },
  {
   "cell_type": "markdown",
   "id": "02d180bb",
   "metadata": {},
   "source": [
    "### Floor Area"
   ]
  },
  {
   "cell_type": "code",
   "execution_count": 34,
   "id": "0116e9ea",
   "metadata": {},
   "outputs": [
    {
     "name": "stdout",
     "output_type": "stream",
     "text": [
      "the minimum floor area in our dataset is 1 and the maximum floor area is 870\n"
     ]
    }
   ],
   "source": [
    "# What are the minimum and maximum floor area values in the dataset \n",
    "max_fa = housing_df[\"FLOOR_AREA\"].max()\n",
    "min_fa = housing_df[\"FLOOR_AREA\"].min()\n",
    "print(f\"the minimum floor area in our dataset is {min_fa} and the maximum floor area is {max_fa}\")"
   ]
  },
  {
   "cell_type": "code",
   "execution_count": 35,
   "id": "cc095127",
   "metadata": {},
   "outputs": [
    {
     "data": {
      "image/png": "[encoded data removed]",
      "text/plain": [
       "<Figure size 432x288 with 1 Axes>"
      ]
     },
     "metadata": {
      "needs_background": "light"
     },
     "output_type": "display_data"
    }
   ],
   "source": [
    "# Plot the spread of this data into a histogram\n",
    "plt.hist(housing_df[\"FLOOR_AREA\"], bins = 20)\n",
    "plt.title(\"Floor Area\")\n",
    "plt.show()"
   ]
  },
  {
   "cell_type": "code",
   "execution_count": 36,
   "id": "c167afd3",
   "metadata": {},
   "outputs": [
    {
     "data": {
      "text/plain": [
       "<AxesSubplot:xlabel='FLOOR_AREA'>"
      ]
     },
     "execution_count": 36,
     "metadata": {},
     "output_type": "execute_result"
    },
    {
     "data": {
      "image/png": "[encoded data removed]",
      "text/plain": [
       "<Figure size 720x576 with 1 Axes>"
      ]
     },
     "metadata": {
      "needs_background": "light"
     },
     "output_type": "display_data"
    }
   ],
   "source": [
    "# Plot a bpxplot for the floor area\n",
    "plt.figure(figsize=(10,8))\n",
    "sns.boxplot(x=housing_df[\"FLOOR_AREA\"])"
   ]
  },
  {
   "cell_type": "code",
   "execution_count": 37,
   "id": "f3ffe21e",
   "metadata": {},
   "outputs": [
    {
     "data": {
      "text/html": [
       "<div>\n",
       "<style scoped>\n",
       "    .dataframe tbody tr th:only-of-type {\n",
       "        vertical-align: middle;\n",
       "    }\n",
       "\n",
       "    .dataframe tbody tr th {\n",
       "        vertical-align: top;\n",
       "    }\n",
       "\n",
       "    .dataframe thead th {\n",
       "        text-align: right;\n",
       "    }\n",
       "</style>\n",
       "<table border=\"1\" class=\"dataframe\">\n",
       "  <thead>\n",
       "    <tr style=\"text-align: right;\">\n",
       "      <th></th>\n",
       "      <th>ADDRESS</th>\n",
       "      <th>SUBURB</th>\n",
       "      <th>PRICE</th>\n",
       "      <th>BEDROOMS</th>\n",
       "      <th>BATHROOMS</th>\n",
       "      <th>GARAGE</th>\n",
       "      <th>LAND_AREA</th>\n",
       "      <th>FLOOR_AREA</th>\n",
       "      <th>BUILD_YEAR</th>\n",
       "      <th>CBD_DIST</th>\n",
       "      <th>NEAREST_STN</th>\n",
       "      <th>NEAREST_STN_DIST</th>\n",
       "      <th>DATE_SOLD</th>\n",
       "      <th>POSTCODE</th>\n",
       "      <th>LATITUDE</th>\n",
       "      <th>LONGITUDE</th>\n",
       "      <th>NEAREST_SCH</th>\n",
       "      <th>NEAREST_SCH_DIST</th>\n",
       "      <th>NEAREST_SCH_RANK</th>\n",
       "      <th>Bed_Group</th>\n",
       "    </tr>\n",
       "  </thead>\n",
       "  <tbody>\n",
       "    <tr>\n",
       "      <th>115</th>\n",
       "      <td>1 Curruthers Road</td>\n",
       "      <td>Mount Pleasant</td>\n",
       "      <td>2200000</td>\n",
       "      <td>2</td>\n",
       "      <td>1</td>\n",
       "      <td>2.0</td>\n",
       "      <td>1100</td>\n",
       "      <td>497</td>\n",
       "      <td>1958.0</td>\n",
       "      <td>9300</td>\n",
       "      <td>Bull Creek Station</td>\n",
       "      <td>1200</td>\n",
       "      <td>12-2018\\r</td>\n",
       "      <td>6153</td>\n",
       "      <td>-32.035946</td>\n",
       "      <td>115.853523</td>\n",
       "      <td>AQUINAS COLLEGE</td>\n",
       "      <td>1.335489</td>\n",
       "      <td>23.0</td>\n",
       "      <td>&lt;=2</td>\n",
       "    </tr>\n",
       "    <tr>\n",
       "      <th>300</th>\n",
       "      <td>1 Kyle Place</td>\n",
       "      <td>Swan View</td>\n",
       "      <td>726000</td>\n",
       "      <td>4</td>\n",
       "      <td>3</td>\n",
       "      <td>2.0</td>\n",
       "      <td>2002</td>\n",
       "      <td>470</td>\n",
       "      <td>1979.0</td>\n",
       "      <td>20600</td>\n",
       "      <td>Midland Station</td>\n",
       "      <td>6100</td>\n",
       "      <td>12-2016\\r</td>\n",
       "      <td>6056</td>\n",
       "      <td>-31.893130</td>\n",
       "      <td>116.065770</td>\n",
       "      <td>SWAN VIEW SENIOR HIGH SCHOOL</td>\n",
       "      <td>2.119756</td>\n",
       "      <td>NaN</td>\n",
       "      <td>4</td>\n",
       "    </tr>\n",
       "    <tr>\n",
       "      <th>302</th>\n",
       "      <td>1 Lanark Street</td>\n",
       "      <td>Menora</td>\n",
       "      <td>875000</td>\n",
       "      <td>2</td>\n",
       "      <td>1</td>\n",
       "      <td>2.0</td>\n",
       "      <td>660</td>\n",
       "      <td>421</td>\n",
       "      <td>1930.0</td>\n",
       "      <td>3600</td>\n",
       "      <td>Leederville Station</td>\n",
       "      <td>2600</td>\n",
       "      <td>01-2007\\r</td>\n",
       "      <td>6050</td>\n",
       "      <td>-31.919750</td>\n",
       "      <td>115.856120</td>\n",
       "      <td>MOUNT LAWLEY SENIOR HIGH SCHOOL</td>\n",
       "      <td>1.297126</td>\n",
       "      <td>20.0</td>\n",
       "      <td>&lt;=2</td>\n",
       "    </tr>\n",
       "    <tr>\n",
       "      <th>332</th>\n",
       "      <td>1 Malibu Entrance</td>\n",
       "      <td>Iluka</td>\n",
       "      <td>1500000</td>\n",
       "      <td>5</td>\n",
       "      <td>4</td>\n",
       "      <td>2.0</td>\n",
       "      <td>639</td>\n",
       "      <td>467</td>\n",
       "      <td>2003.0</td>\n",
       "      <td>27000</td>\n",
       "      <td>Currambine Station</td>\n",
       "      <td>2800</td>\n",
       "      <td>09-2016\\r</td>\n",
       "      <td>6028</td>\n",
       "      <td>-31.737770</td>\n",
       "      <td>115.725170</td>\n",
       "      <td>PRENDIVILLE CATHOLIC COLLEGE</td>\n",
       "      <td>2.329002</td>\n",
       "      <td>60.0</td>\n",
       "      <td>&gt;=5</td>\n",
       "    </tr>\n",
       "    <tr>\n",
       "      <th>365</th>\n",
       "      <td>1 Mingara Avenue</td>\n",
       "      <td>Harrisdale</td>\n",
       "      <td>1200000</td>\n",
       "      <td>4</td>\n",
       "      <td>3</td>\n",
       "      <td>2.0</td>\n",
       "      <td>753</td>\n",
       "      <td>438</td>\n",
       "      <td>2009.0</td>\n",
       "      <td>19500</td>\n",
       "      <td>Kelmscott Station</td>\n",
       "      <td>7400</td>\n",
       "      <td>04-2018\\r</td>\n",
       "      <td>6112</td>\n",
       "      <td>-32.115478</td>\n",
       "      <td>115.934718</td>\n",
       "      <td>CAREY BAPTIST COLLEGE</td>\n",
       "      <td>0.439171</td>\n",
       "      <td>62.0</td>\n",
       "      <td>4</td>\n",
       "    </tr>\n",
       "    <tr>\n",
       "      <th>...</th>\n",
       "      <td>...</td>\n",
       "      <td>...</td>\n",
       "      <td>...</td>\n",
       "      <td>...</td>\n",
       "      <td>...</td>\n",
       "      <td>...</td>\n",
       "      <td>...</td>\n",
       "      <td>...</td>\n",
       "      <td>...</td>\n",
       "      <td>...</td>\n",
       "      <td>...</td>\n",
       "      <td>...</td>\n",
       "      <td>...</td>\n",
       "      <td>...</td>\n",
       "      <td>...</td>\n",
       "      <td>...</td>\n",
       "      <td>...</td>\n",
       "      <td>...</td>\n",
       "      <td>...</td>\n",
       "      <td>...</td>\n",
       "    </tr>\n",
       "    <tr>\n",
       "      <th>33401</th>\n",
       "      <td>95 The Fairways</td>\n",
       "      <td>Gnangara</td>\n",
       "      <td>1990000</td>\n",
       "      <td>4</td>\n",
       "      <td>2</td>\n",
       "      <td>4.0</td>\n",
       "      <td>10073</td>\n",
       "      <td>419</td>\n",
       "      <td>2005.0</td>\n",
       "      <td>19000</td>\n",
       "      <td>Edgewater Station</td>\n",
       "      <td>7000</td>\n",
       "      <td>06-2010\\r</td>\n",
       "      <td>6077</td>\n",
       "      <td>-31.781440</td>\n",
       "      <td>115.851470</td>\n",
       "      <td>LANDSDALE CHRISTIAN SCHOOL</td>\n",
       "      <td>3.186595</td>\n",
       "      <td>NaN</td>\n",
       "      <td>4</td>\n",
       "    </tr>\n",
       "    <tr>\n",
       "      <th>33455</th>\n",
       "      <td>965 Brooking Road</td>\n",
       "      <td>Hovea</td>\n",
       "      <td>150000</td>\n",
       "      <td>6</td>\n",
       "      <td>5</td>\n",
       "      <td>NaN</td>\n",
       "      <td>24902</td>\n",
       "      <td>510</td>\n",
       "      <td>2001.0</td>\n",
       "      <td>26300</td>\n",
       "      <td>Midland Station</td>\n",
       "      <td>12200</td>\n",
       "      <td>09-1998\\r</td>\n",
       "      <td>6071</td>\n",
       "      <td>-31.897320</td>\n",
       "      <td>116.129840</td>\n",
       "      <td>HELENA COLLEGE</td>\n",
       "      <td>3.797747</td>\n",
       "      <td>78.0</td>\n",
       "      <td>&gt;=5</td>\n",
       "    </tr>\n",
       "    <tr>\n",
       "      <th>33524</th>\n",
       "      <td>98 Randell Road</td>\n",
       "      <td>Mardella</td>\n",
       "      <td>1000000</td>\n",
       "      <td>7</td>\n",
       "      <td>4</td>\n",
       "      <td>2.0</td>\n",
       "      <td>40043</td>\n",
       "      <td>438</td>\n",
       "      <td>2005.0</td>\n",
       "      <td>41100</td>\n",
       "      <td>Armadale Station</td>\n",
       "      <td>17700</td>\n",
       "      <td>09-2010\\r</td>\n",
       "      <td>6125</td>\n",
       "      <td>-32.308937</td>\n",
       "      <td>115.970333</td>\n",
       "      <td>COURT GRAMMAR SCHOOL</td>\n",
       "      <td>4.792387</td>\n",
       "      <td>NaN</td>\n",
       "      <td>&gt;=5</td>\n",
       "    </tr>\n",
       "    <tr>\n",
       "      <th>33596</th>\n",
       "      <td>9A Cornwall Street</td>\n",
       "      <td>Lathlain</td>\n",
       "      <td>990000</td>\n",
       "      <td>5</td>\n",
       "      <td>2</td>\n",
       "      <td>4.0</td>\n",
       "      <td>573</td>\n",
       "      <td>471</td>\n",
       "      <td>2008.0</td>\n",
       "      <td>4300</td>\n",
       "      <td>Burswood Station</td>\n",
       "      <td>328</td>\n",
       "      <td>02-2015\\r</td>\n",
       "      <td>6100</td>\n",
       "      <td>-31.961831</td>\n",
       "      <td>115.902495</td>\n",
       "      <td>ST CLARE'S SCHOOL</td>\n",
       "      <td>1.185163</td>\n",
       "      <td>NaN</td>\n",
       "      <td>&gt;=5</td>\n",
       "    </tr>\n",
       "    <tr>\n",
       "      <th>33639</th>\n",
       "      <td>9B Henley Road</td>\n",
       "      <td>Mount Pleasant</td>\n",
       "      <td>1540000</td>\n",
       "      <td>5</td>\n",
       "      <td>3</td>\n",
       "      <td>2.0</td>\n",
       "      <td>506</td>\n",
       "      <td>441</td>\n",
       "      <td>2009.0</td>\n",
       "      <td>8300</td>\n",
       "      <td>Canning Bridge Station</td>\n",
       "      <td>2100</td>\n",
       "      <td>11-2018\\r</td>\n",
       "      <td>6153</td>\n",
       "      <td>-32.026009</td>\n",
       "      <td>115.844502</td>\n",
       "      <td>APPLECROSS SENIOR HIGH SCHOOL</td>\n",
       "      <td>0.963294</td>\n",
       "      <td>34.0</td>\n",
       "      <td>&gt;=5</td>\n",
       "    </tr>\n",
       "  </tbody>\n",
       "</table>\n",
       "<p>386 rows × 20 columns</p>\n",
       "</div>"
      ],
      "text/plain": [
       "                  ADDRESS          SUBURB    PRICE  BEDROOMS  BATHROOMS  \\\n",
       "115     1 Curruthers Road  Mount Pleasant  2200000         2          1   \n",
       "300          1 Kyle Place       Swan View   726000         4          3   \n",
       "302       1 Lanark Street          Menora   875000         2          1   \n",
       "332     1 Malibu Entrance           Iluka  1500000         5          4   \n",
       "365      1 Mingara Avenue      Harrisdale  1200000         4          3   \n",
       "...                   ...             ...      ...       ...        ...   \n",
       "33401     95 The Fairways        Gnangara  1990000         4          2   \n",
       "33455   965 Brooking Road           Hovea   150000         6          5   \n",
       "33524     98 Randell Road        Mardella  1000000         7          4   \n",
       "33596  9A Cornwall Street        Lathlain   990000         5          2   \n",
       "33639      9B Henley Road  Mount Pleasant  1540000         5          3   \n",
       "\n",
       "       GARAGE  LAND_AREA  FLOOR_AREA  BUILD_YEAR  CBD_DIST  \\\n",
       "115       2.0       1100         497      1958.0      9300   \n",
       "300       2.0       2002         470      1979.0     20600   \n",
       "302       2.0        660         421      1930.0      3600   \n",
       "332       2.0        639         467      2003.0     27000   \n",
       "365       2.0        753         438      2009.0     19500   \n",
       "...       ...        ...         ...         ...       ...   \n",
       "33401     4.0      10073         419      2005.0     19000   \n",
       "33455     NaN      24902         510      2001.0     26300   \n",
       "33524     2.0      40043         438      2005.0     41100   \n",
       "33596     4.0        573         471      2008.0      4300   \n",
       "33639     2.0        506         441      2009.0      8300   \n",
       "\n",
       "                  NEAREST_STN  NEAREST_STN_DIST  DATE_SOLD  POSTCODE  \\\n",
       "115        Bull Creek Station              1200  12-2018\\r      6153   \n",
       "300           Midland Station              6100  12-2016\\r      6056   \n",
       "302       Leederville Station              2600  01-2007\\r      6050   \n",
       "332        Currambine Station              2800  09-2016\\r      6028   \n",
       "365         Kelmscott Station              7400  04-2018\\r      6112   \n",
       "...                       ...               ...        ...       ...   \n",
       "33401       Edgewater Station              7000  06-2010\\r      6077   \n",
       "33455         Midland Station             12200  09-1998\\r      6071   \n",
       "33524        Armadale Station             17700  09-2010\\r      6125   \n",
       "33596        Burswood Station               328  02-2015\\r      6100   \n",
       "33639  Canning Bridge Station              2100  11-2018\\r      6153   \n",
       "\n",
       "        LATITUDE   LONGITUDE                      NEAREST_SCH  \\\n",
       "115   -32.035946  115.853523                  AQUINAS COLLEGE   \n",
       "300   -31.893130  116.065770     SWAN VIEW SENIOR HIGH SCHOOL   \n",
       "302   -31.919750  115.856120  MOUNT LAWLEY SENIOR HIGH SCHOOL   \n",
       "332   -31.737770  115.725170     PRENDIVILLE CATHOLIC COLLEGE   \n",
       "365   -32.115478  115.934718            CAREY BAPTIST COLLEGE   \n",
       "...          ...         ...                              ...   \n",
       "33401 -31.781440  115.851470       LANDSDALE CHRISTIAN SCHOOL   \n",
       "33455 -31.897320  116.129840                   HELENA COLLEGE   \n",
       "33524 -32.308937  115.970333             COURT GRAMMAR SCHOOL   \n",
       "33596 -31.961831  115.902495                ST CLARE'S SCHOOL   \n",
       "33639 -32.026009  115.844502    APPLECROSS SENIOR HIGH SCHOOL   \n",
       "\n",
       "       NEAREST_SCH_DIST  NEAREST_SCH_RANK Bed_Group  \n",
       "115            1.335489              23.0       <=2  \n",
       "300            2.119756               NaN         4  \n",
       "302            1.297126              20.0       <=2  \n",
       "332            2.329002              60.0       >=5  \n",
       "365            0.439171              62.0         4  \n",
       "...                 ...               ...       ...  \n",
       "33401          3.186595               NaN         4  \n",
       "33455          3.797747              78.0       >=5  \n",
       "33524          4.792387               NaN       >=5  \n",
       "33596          1.185163               NaN       >=5  \n",
       "33639          0.963294              34.0       >=5  \n",
       "\n",
       "[386 rows x 20 columns]"
      ]
     },
     "execution_count": 37,
     "metadata": {},
     "output_type": "execute_result"
    }
   ],
   "source": [
    "housing_df[housing_df[\"FLOOR_AREA\"] > 400]\n",
    "# Look to drop the 386"
   ]
  },
  {
   "cell_type": "markdown",
   "id": "73023cbe",
   "metadata": {},
   "source": [
    "### Build Year"
   ]
  },
  {
   "cell_type": "code",
   "execution_count": null,
   "id": "4a82cd61",
   "metadata": {},
   "outputs": [],
   "source": [
    "# Ahmed\n",
    "# years old, date cant go into the model, years since construction\n",
    "# turn year built to a number"
   ]
  },
  {
   "cell_type": "markdown",
   "id": "4378743f",
   "metadata": {},
   "source": [
    "### CBD Dist"
   ]
  },
  {
   "cell_type": "code",
   "execution_count": null,
   "id": "02925214",
   "metadata": {},
   "outputs": [],
   "source": []
  },
  {
   "cell_type": "markdown",
   "id": "02a7d0d5",
   "metadata": {},
   "source": [
    "### Nearest Stn"
   ]
  },
  {
   "cell_type": "code",
   "execution_count": null,
   "id": "885862b2",
   "metadata": {},
   "outputs": [],
   "source": []
  },
  {
   "cell_type": "markdown",
   "id": "a04d1ebb",
   "metadata": {},
   "source": [
    "### Nearest Stn Dist"
   ]
  },
  {
   "cell_type": "code",
   "execution_count": null,
   "id": "1a9b9b12",
   "metadata": {},
   "outputs": [],
   "source": []
  },
  {
   "cell_type": "markdown",
   "id": "ac0c9768",
   "metadata": {},
   "source": [
    "### Date Sold"
   ]
  },
  {
   "cell_type": "code",
   "execution_count": null,
   "id": "11c0a020",
   "metadata": {},
   "outputs": [],
   "source": [
    "# Check days since last sold as with the year built"
   ]
  },
  {
   "cell_type": "markdown",
   "id": "dbdf0789",
   "metadata": {},
   "source": [
    "### Post Code"
   ]
  },
  {
   "cell_type": "code",
   "execution_count": null,
   "id": "311cbe77",
   "metadata": {},
   "outputs": [],
   "source": [
    "# Ahmed\n",
    "housing_df[\"POSTCODE\"].nunique()"
   ]
  },
  {
   "cell_type": "code",
   "execution_count": null,
   "id": "c0621ba5",
   "metadata": {},
   "outputs": [],
   "source": [
    "housing_df[\"POSTCODE\"].value_counts()"
   ]
  },
  {
   "cell_type": "code",
   "execution_count": null,
   "id": "1dd9cfb8",
   "metadata": {},
   "outputs": [],
   "source": [
    "# set a threshold from the "
   ]
  },
  {
   "cell_type": "markdown",
   "id": "de71e50e",
   "metadata": {},
   "source": [
    "### Latitude"
   ]
  },
  {
   "cell_type": "code",
   "execution_count": null,
   "id": "5fc51f97",
   "metadata": {},
   "outputs": [],
   "source": [
    "# Hardip"
   ]
  },
  {
   "cell_type": "markdown",
   "id": "578b94df",
   "metadata": {},
   "source": [
    "### Longitude"
   ]
  },
  {
   "cell_type": "code",
   "execution_count": null,
   "id": "ef62d1ca",
   "metadata": {},
   "outputs": [],
   "source": []
  },
  {
   "cell_type": "markdown",
   "id": "65735a53",
   "metadata": {},
   "source": [
    "### Nearest School"
   ]
  },
  {
   "cell_type": "code",
   "execution_count": null,
   "id": "5d934da3",
   "metadata": {},
   "outputs": [],
   "source": []
  },
  {
   "cell_type": "markdown",
   "id": "7a18c3d0",
   "metadata": {},
   "source": [
    "### Nearest School Dist"
   ]
  },
  {
   "cell_type": "code",
   "execution_count": null,
   "id": "d91bb84e",
   "metadata": {},
   "outputs": [],
   "source": []
  },
  {
   "cell_type": "markdown",
   "id": "30d33476",
   "metadata": {},
   "source": [
    "### Nearest School Rank"
   ]
  },
  {
   "cell_type": "code",
   "execution_count": null,
   "id": "05ff5dfa",
   "metadata": {},
   "outputs": [],
   "source": [
    "# Hardip"
   ]
  },
  {
   "cell_type": "code",
   "execution_count": null,
   "id": "73a26804",
   "metadata": {},
   "outputs": [],
   "source": [
    "housing_df.drop([\"ADDRESS\", \"NEAREST_SCH_RANK\"], axis=1, inplace=True)"
   ]
  },
  {
   "cell_type": "code",
   "execution_count": null,
   "id": "ff7fab30",
   "metadata": {},
   "outputs": [],
   "source": [
    "housing_df[\"GARAGE\"].value_counts()"
   ]
  },
  {
   "cell_type": "code",
   "execution_count": null,
   "id": "9327783d",
   "metadata": {},
   "outputs": [],
   "source": [
    "housing_df[\"GARAGE\"] = housing_df[\"GARAGE\"].fillna(housing_df[\"GARAGE\"].mode()[0])\n",
    "housing_df[\"BUILD_YEAR\"] = housing_df[\"BUILD_YEAR\"].fillna(housing_df[\"BUILD_YEAR\"].mode()[0])"
   ]
  },
  {
   "cell_type": "code",
   "execution_count": null,
   "id": "e9c989d9",
   "metadata": {},
   "outputs": [],
   "source": [
    "\n",
    "housing_df.PRICE = housing_df.PRICE.astype('int')\n",
    "housing_df.BEDROOMS = housing_df.BEDROOMS.astype('int')\n",
    "housing_df.BATHROOMS = housing_df.BATHROOMS.astype('int')\n",
    "housing_df.GARAGE = housing_df.GARAGE.astype('int')\n",
    "housing_df.LAND_AREA = housing_df.LAND_AREA.astype('int')\n",
    "housing_df.FLOOR_AREA = housing_df.FLOOR_AREA.astype('int')\n",
    "housing_df[\"DATE_SOLD\"] = pd.to_datetime(housing_df[\"DATE_SOLD\"])\n",
    "housing_df[\"DATE_YEAR\"] = housing_df[\"DATE_SOLD\"].dt.year\n",
    "housing_df[\"DATE_MONTH\"] = housing_df[\"DATE_SOLD\"].dt.month\n",
    "housing_df.BUILD_YEAR= housing_df.BUILD_YEAR.astype('int')\n",
    "housing_df.CBD_DIST= housing_df.CBD_DIST.astype('int')\n",
    "housing_df.NEAREST_STN_DIST= housing_df.NEAREST_STN_DIST.astype('int')\n",
    "housing_df.POSTCODE= housing_df.POSTCODE.astype('int')\n",
    "housing_df.LATITUDE= housing_df.LATITUDE.astype('float')\n",
    "housing_df.LONGITUDE= housing_df.LONGITUDE.astype('float')\n",
    "housing_df.NEAREST_SCH_DIST= housing_df.NEAREST_SCH_DIST.astype('float')\n"
   ]
  },
  {
   "cell_type": "code",
   "execution_count": null,
   "id": "7b1da8ec",
   "metadata": {},
   "outputs": [],
   "source": [
    "housing_df.info()"
   ]
  },
  {
   "cell_type": "code",
   "execution_count": null,
   "id": "b5b73bc6",
   "metadata": {},
   "outputs": [],
   "source": [
    "housing_df.drop([\"DATE_SOLD\"], axis=1, inplace=True)"
   ]
  },
  {
   "cell_type": "code",
   "execution_count": null,
   "id": "f7d42db0",
   "metadata": {},
   "outputs": [],
   "source": [
    "housing_df.head()"
   ]
  },
  {
   "cell_type": "code",
   "execution_count": null,
   "id": "96ec6ad5",
   "metadata": {},
   "outputs": [],
   "source": [
    "housing_df[\"DATE_YEAR\"].value_counts()"
   ]
  },
  {
   "cell_type": "code",
   "execution_count": null,
   "id": "fbef2988",
   "metadata": {},
   "outputs": [],
   "source": [
    "clean_df = housing_df.copy()\n",
    "clean_df.head(10)"
   ]
  }
 ],
 "metadata": {
  "kernelspec": {
   "display_name": "Python 3 (ipykernel)",
   "language": "python",
   "name": "python3"
  },
  "language_info": {
   "codemirror_mode": {
    "name": "ipython",
    "version": 3
   },
   "file_extension": ".py",
   "mimetype": "text/x-python",
   "name": "python",
   "nbconvert_exporter": "python",
   "pygments_lexer": "ipython3",
   "version": "3.9.12"
  }
 },
 "nbformat": 4,
 "nbformat_minor": 5
}
