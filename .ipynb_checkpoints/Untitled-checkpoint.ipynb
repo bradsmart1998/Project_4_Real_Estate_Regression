{
 "cells": [
  {
   "cell_type": "code",
   "execution_count": 1,
   "id": "e56224c2",
   "metadata": {},
   "outputs": [],
   "source": [
    "# Import Dependancies \n",
    "import pandas as pd\n",
    "import matplotlib.pyplot as plt\n",
    "import seaborn as sns"
   ]
  },
  {
   "cell_type": "markdown",
   "id": "25276424",
   "metadata": {},
   "source": [
    "## The Dataset"
   ]
  },
  {
   "cell_type": "code",
   "execution_count": 2,
   "id": "e0dcee96",
   "metadata": {},
   "outputs": [
    {
     "data": {
      "text/html": [
       "<div>\n",
       "<style scoped>\n",
       "    .dataframe tbody tr th:only-of-type {\n",
       "        vertical-align: middle;\n",
       "    }\n",
       "\n",
       "    .dataframe tbody tr th {\n",
       "        vertical-align: top;\n",
       "    }\n",
       "\n",
       "    .dataframe thead th {\n",
       "        text-align: right;\n",
       "    }\n",
       "</style>\n",
       "<table border=\"1\" class=\"dataframe\">\n",
       "  <thead>\n",
       "    <tr style=\"text-align: right;\">\n",
       "      <th></th>\n",
       "      <th>ADDRESS</th>\n",
       "      <th>SUBURB</th>\n",
       "      <th>PRICE</th>\n",
       "      <th>BEDROOMS</th>\n",
       "      <th>BATHROOMS</th>\n",
       "      <th>GARAGE</th>\n",
       "      <th>LAND_AREA</th>\n",
       "      <th>FLOOR_AREA</th>\n",
       "      <th>BUILD_YEAR</th>\n",
       "      <th>CBD_DIST</th>\n",
       "      <th>NEAREST_STN</th>\n",
       "      <th>NEAREST_STN_DIST</th>\n",
       "      <th>DATE_SOLD</th>\n",
       "      <th>POSTCODE</th>\n",
       "      <th>LATITUDE</th>\n",
       "      <th>LONGITUDE</th>\n",
       "      <th>NEAREST_SCH</th>\n",
       "      <th>NEAREST_SCH_DIST</th>\n",
       "      <th>NEAREST_SCH_RANK</th>\n",
       "    </tr>\n",
       "  </thead>\n",
       "  <tbody>\n",
       "    <tr>\n",
       "      <th>0</th>\n",
       "      <td>1 Acorn Place</td>\n",
       "      <td>South Lake</td>\n",
       "      <td>565000</td>\n",
       "      <td>4</td>\n",
       "      <td>2</td>\n",
       "      <td>2.0</td>\n",
       "      <td>600</td>\n",
       "      <td>160</td>\n",
       "      <td>2003.0</td>\n",
       "      <td>18300</td>\n",
       "      <td>Cockburn Central Station</td>\n",
       "      <td>1800</td>\n",
       "      <td>09-2018\\r</td>\n",
       "      <td>6164</td>\n",
       "      <td>-32.115900</td>\n",
       "      <td>115.842450</td>\n",
       "      <td>LAKELAND SENIOR HIGH SCHOOL</td>\n",
       "      <td>0.828339</td>\n",
       "      <td>NaN</td>\n",
       "    </tr>\n",
       "    <tr>\n",
       "      <th>1</th>\n",
       "      <td>1 Addis Way</td>\n",
       "      <td>Wandi</td>\n",
       "      <td>365000</td>\n",
       "      <td>3</td>\n",
       "      <td>2</td>\n",
       "      <td>2.0</td>\n",
       "      <td>351</td>\n",
       "      <td>139</td>\n",
       "      <td>2013.0</td>\n",
       "      <td>26900</td>\n",
       "      <td>Kwinana Station</td>\n",
       "      <td>4900</td>\n",
       "      <td>02-2019\\r</td>\n",
       "      <td>6167</td>\n",
       "      <td>-32.193470</td>\n",
       "      <td>115.859554</td>\n",
       "      <td>ATWELL COLLEGE</td>\n",
       "      <td>5.524324</td>\n",
       "      <td>129.0</td>\n",
       "    </tr>\n",
       "    <tr>\n",
       "      <th>2</th>\n",
       "      <td>1 Ainsley Court</td>\n",
       "      <td>Camillo</td>\n",
       "      <td>287000</td>\n",
       "      <td>3</td>\n",
       "      <td>1</td>\n",
       "      <td>1.0</td>\n",
       "      <td>719</td>\n",
       "      <td>86</td>\n",
       "      <td>1979.0</td>\n",
       "      <td>22600</td>\n",
       "      <td>Challis Station</td>\n",
       "      <td>1900</td>\n",
       "      <td>06-2015\\r</td>\n",
       "      <td>6111</td>\n",
       "      <td>-32.120578</td>\n",
       "      <td>115.993579</td>\n",
       "      <td>KELMSCOTT SENIOR HIGH SCHOOL</td>\n",
       "      <td>1.649178</td>\n",
       "      <td>113.0</td>\n",
       "    </tr>\n",
       "    <tr>\n",
       "      <th>3</th>\n",
       "      <td>1 Albert Street</td>\n",
       "      <td>Bellevue</td>\n",
       "      <td>255000</td>\n",
       "      <td>2</td>\n",
       "      <td>1</td>\n",
       "      <td>2.0</td>\n",
       "      <td>651</td>\n",
       "      <td>59</td>\n",
       "      <td>1953.0</td>\n",
       "      <td>17900</td>\n",
       "      <td>Midland Station</td>\n",
       "      <td>3600</td>\n",
       "      <td>07-2018\\r</td>\n",
       "      <td>6056</td>\n",
       "      <td>-31.900547</td>\n",
       "      <td>116.038009</td>\n",
       "      <td>SWAN VIEW SENIOR HIGH SCHOOL</td>\n",
       "      <td>1.571401</td>\n",
       "      <td>NaN</td>\n",
       "    </tr>\n",
       "    <tr>\n",
       "      <th>4</th>\n",
       "      <td>1 Aman Place</td>\n",
       "      <td>Lockridge</td>\n",
       "      <td>325000</td>\n",
       "      <td>4</td>\n",
       "      <td>1</td>\n",
       "      <td>2.0</td>\n",
       "      <td>466</td>\n",
       "      <td>131</td>\n",
       "      <td>1998.0</td>\n",
       "      <td>11200</td>\n",
       "      <td>Bassendean Station</td>\n",
       "      <td>2000</td>\n",
       "      <td>11-2016\\r</td>\n",
       "      <td>6054</td>\n",
       "      <td>-31.885790</td>\n",
       "      <td>115.947780</td>\n",
       "      <td>KIARA COLLEGE</td>\n",
       "      <td>1.514922</td>\n",
       "      <td>NaN</td>\n",
       "    </tr>\n",
       "  </tbody>\n",
       "</table>\n",
       "</div>"
      ],
      "text/plain": [
       "           ADDRESS      SUBURB   PRICE  BEDROOMS  BATHROOMS  GARAGE  \\\n",
       "0    1 Acorn Place  South Lake  565000         4          2     2.0   \n",
       "1      1 Addis Way       Wandi  365000         3          2     2.0   \n",
       "2  1 Ainsley Court     Camillo  287000         3          1     1.0   \n",
       "3  1 Albert Street    Bellevue  255000         2          1     2.0   \n",
       "4     1 Aman Place   Lockridge  325000         4          1     2.0   \n",
       "\n",
       "   LAND_AREA  FLOOR_AREA  BUILD_YEAR  CBD_DIST               NEAREST_STN  \\\n",
       "0        600         160      2003.0     18300  Cockburn Central Station   \n",
       "1        351         139      2013.0     26900           Kwinana Station   \n",
       "2        719          86      1979.0     22600           Challis Station   \n",
       "3        651          59      1953.0     17900           Midland Station   \n",
       "4        466         131      1998.0     11200        Bassendean Station   \n",
       "\n",
       "   NEAREST_STN_DIST  DATE_SOLD  POSTCODE   LATITUDE   LONGITUDE  \\\n",
       "0              1800  09-2018\\r      6164 -32.115900  115.842450   \n",
       "1              4900  02-2019\\r      6167 -32.193470  115.859554   \n",
       "2              1900  06-2015\\r      6111 -32.120578  115.993579   \n",
       "3              3600  07-2018\\r      6056 -31.900547  116.038009   \n",
       "4              2000  11-2016\\r      6054 -31.885790  115.947780   \n",
       "\n",
       "                    NEAREST_SCH  NEAREST_SCH_DIST  NEAREST_SCH_RANK  \n",
       "0   LAKELAND SENIOR HIGH SCHOOL          0.828339               NaN  \n",
       "1                ATWELL COLLEGE          5.524324             129.0  \n",
       "2  KELMSCOTT SENIOR HIGH SCHOOL          1.649178             113.0  \n",
       "3  SWAN VIEW SENIOR HIGH SCHOOL          1.571401               NaN  \n",
       "4                 KIARA COLLEGE          1.514922               NaN  "
      ]
     },
     "execution_count": 2,
     "metadata": {},
     "output_type": "execute_result"
    }
   ],
   "source": [
    "# Load in the data from the CSV\n",
    "csv_file = \"Data/all_perth_310121.csv\"\n",
    "housing_df = pd.read_csv(csv_file)\n",
    "# Display the dataset\n",
    "housing_df.head()"
   ]
  },
  {
   "cell_type": "markdown",
   "id": "05df8c87",
   "metadata": {},
   "source": [
    "## Explore the data"
   ]
  },
  {
   "cell_type": "code",
   "execution_count": 3,
   "id": "1891d010",
   "metadata": {},
   "outputs": [
    {
     "name": "stdout",
     "output_type": "stream",
     "text": [
      "<class 'pandas.core.frame.DataFrame'>\n",
      "RangeIndex: 33656 entries, 0 to 33655\n",
      "Data columns (total 19 columns):\n",
      " #   Column            Non-Null Count  Dtype  \n",
      "---  ------            --------------  -----  \n",
      " 0   ADDRESS           33656 non-null  object \n",
      " 1   SUBURB            33656 non-null  object \n",
      " 2   PRICE             33656 non-null  int64  \n",
      " 3   BEDROOMS          33656 non-null  int64  \n",
      " 4   BATHROOMS         33656 non-null  int64  \n",
      " 5   GARAGE            31178 non-null  float64\n",
      " 6   LAND_AREA         33656 non-null  int64  \n",
      " 7   FLOOR_AREA        33656 non-null  int64  \n",
      " 8   BUILD_YEAR        30501 non-null  float64\n",
      " 9   CBD_DIST          33656 non-null  int64  \n",
      " 10  NEAREST_STN       33656 non-null  object \n",
      " 11  NEAREST_STN_DIST  33656 non-null  int64  \n",
      " 12  DATE_SOLD         33656 non-null  object \n",
      " 13  POSTCODE          33656 non-null  int64  \n",
      " 14  LATITUDE          33656 non-null  float64\n",
      " 15  LONGITUDE         33656 non-null  float64\n",
      " 16  NEAREST_SCH       33656 non-null  object \n",
      " 17  NEAREST_SCH_DIST  33656 non-null  float64\n",
      " 18  NEAREST_SCH_RANK  22704 non-null  float64\n",
      "dtypes: float64(6), int64(8), object(5)\n",
      "memory usage: 4.9+ MB\n"
     ]
    }
   ],
   "source": [
    "# The info on the dataset\n",
    "housing_df.info()"
   ]
  },
  {
   "cell_type": "code",
   "execution_count": 4,
   "id": "14f018c5",
   "metadata": {},
   "outputs": [
    {
     "data": {
      "text/html": [
       "<div>\n",
       "<style scoped>\n",
       "    .dataframe tbody tr th:only-of-type {\n",
       "        vertical-align: middle;\n",
       "    }\n",
       "\n",
       "    .dataframe tbody tr th {\n",
       "        vertical-align: top;\n",
       "    }\n",
       "\n",
       "    .dataframe thead th {\n",
       "        text-align: right;\n",
       "    }\n",
       "</style>\n",
       "<table border=\"1\" class=\"dataframe\">\n",
       "  <thead>\n",
       "    <tr style=\"text-align: right;\">\n",
       "      <th></th>\n",
       "      <th>count</th>\n",
       "      <th>mean</th>\n",
       "      <th>std</th>\n",
       "      <th>min</th>\n",
       "      <th>25%</th>\n",
       "      <th>50%</th>\n",
       "      <th>75%</th>\n",
       "      <th>max</th>\n",
       "    </tr>\n",
       "  </thead>\n",
       "  <tbody>\n",
       "    <tr>\n",
       "      <th>PRICE</th>\n",
       "      <td>33656.0</td>\n",
       "      <td>637072.005794</td>\n",
       "      <td>355825.632737</td>\n",
       "      <td>51000.000000</td>\n",
       "      <td>410000.000000</td>\n",
       "      <td>535500.000000</td>\n",
       "      <td>760000.000000</td>\n",
       "      <td>2.440000e+06</td>\n",
       "    </tr>\n",
       "    <tr>\n",
       "      <th>BEDROOMS</th>\n",
       "      <td>33656.0</td>\n",
       "      <td>3.659110</td>\n",
       "      <td>0.752038</td>\n",
       "      <td>1.000000</td>\n",
       "      <td>3.000000</td>\n",
       "      <td>4.000000</td>\n",
       "      <td>4.000000</td>\n",
       "      <td>1.000000e+01</td>\n",
       "    </tr>\n",
       "    <tr>\n",
       "      <th>BATHROOMS</th>\n",
       "      <td>33656.0</td>\n",
       "      <td>1.823063</td>\n",
       "      <td>0.587427</td>\n",
       "      <td>1.000000</td>\n",
       "      <td>1.000000</td>\n",
       "      <td>2.000000</td>\n",
       "      <td>2.000000</td>\n",
       "      <td>1.600000e+01</td>\n",
       "    </tr>\n",
       "    <tr>\n",
       "      <th>GARAGE</th>\n",
       "      <td>31178.0</td>\n",
       "      <td>2.199917</td>\n",
       "      <td>1.365225</td>\n",
       "      <td>1.000000</td>\n",
       "      <td>2.000000</td>\n",
       "      <td>2.000000</td>\n",
       "      <td>2.000000</td>\n",
       "      <td>9.900000e+01</td>\n",
       "    </tr>\n",
       "    <tr>\n",
       "      <th>LAND_AREA</th>\n",
       "      <td>33656.0</td>\n",
       "      <td>2740.644016</td>\n",
       "      <td>16693.513215</td>\n",
       "      <td>61.000000</td>\n",
       "      <td>503.000000</td>\n",
       "      <td>682.000000</td>\n",
       "      <td>838.000000</td>\n",
       "      <td>9.999990e+05</td>\n",
       "    </tr>\n",
       "    <tr>\n",
       "      <th>FLOOR_AREA</th>\n",
       "      <td>33656.0</td>\n",
       "      <td>183.501545</td>\n",
       "      <td>72.102982</td>\n",
       "      <td>1.000000</td>\n",
       "      <td>130.000000</td>\n",
       "      <td>172.000000</td>\n",
       "      <td>222.250000</td>\n",
       "      <td>8.700000e+02</td>\n",
       "    </tr>\n",
       "    <tr>\n",
       "      <th>BUILD_YEAR</th>\n",
       "      <td>30501.0</td>\n",
       "      <td>1989.706436</td>\n",
       "      <td>20.964330</td>\n",
       "      <td>1868.000000</td>\n",
       "      <td>1978.000000</td>\n",
       "      <td>1995.000000</td>\n",
       "      <td>2005.000000</td>\n",
       "      <td>2.017000e+03</td>\n",
       "    </tr>\n",
       "    <tr>\n",
       "      <th>CBD_DIST</th>\n",
       "      <td>33656.0</td>\n",
       "      <td>19777.374465</td>\n",
       "      <td>11364.415413</td>\n",
       "      <td>681.000000</td>\n",
       "      <td>11200.000000</td>\n",
       "      <td>17500.000000</td>\n",
       "      <td>26600.000000</td>\n",
       "      <td>5.980000e+04</td>\n",
       "    </tr>\n",
       "    <tr>\n",
       "      <th>NEAREST_STN_DIST</th>\n",
       "      <td>33656.0</td>\n",
       "      <td>4523.371494</td>\n",
       "      <td>4495.064024</td>\n",
       "      <td>46.000000</td>\n",
       "      <td>1800.000000</td>\n",
       "      <td>3200.000000</td>\n",
       "      <td>5300.000000</td>\n",
       "      <td>3.550000e+04</td>\n",
       "    </tr>\n",
       "    <tr>\n",
       "      <th>POSTCODE</th>\n",
       "      <td>33656.0</td>\n",
       "      <td>6089.420074</td>\n",
       "      <td>62.167921</td>\n",
       "      <td>6003.000000</td>\n",
       "      <td>6050.000000</td>\n",
       "      <td>6069.000000</td>\n",
       "      <td>6150.000000</td>\n",
       "      <td>6.558000e+03</td>\n",
       "    </tr>\n",
       "    <tr>\n",
       "      <th>LATITUDE</th>\n",
       "      <td>33656.0</td>\n",
       "      <td>-31.960664</td>\n",
       "      <td>0.177780</td>\n",
       "      <td>-32.472979</td>\n",
       "      <td>-32.068437</td>\n",
       "      <td>-31.933231</td>\n",
       "      <td>-31.843818</td>\n",
       "      <td>-3.145745e+01</td>\n",
       "    </tr>\n",
       "    <tr>\n",
       "      <th>LONGITUDE</th>\n",
       "      <td>33656.0</td>\n",
       "      <td>115.879265</td>\n",
       "      <td>0.118137</td>\n",
       "      <td>115.582730</td>\n",
       "      <td>115.789763</td>\n",
       "      <td>115.854198</td>\n",
       "      <td>115.970722</td>\n",
       "      <td>1.163432e+02</td>\n",
       "    </tr>\n",
       "    <tr>\n",
       "      <th>NEAREST_SCH_DIST</th>\n",
       "      <td>33656.0</td>\n",
       "      <td>1.815268</td>\n",
       "      <td>1.746000</td>\n",
       "      <td>0.070912</td>\n",
       "      <td>0.880568</td>\n",
       "      <td>1.345520</td>\n",
       "      <td>2.097225</td>\n",
       "      <td>2.325437e+01</td>\n",
       "    </tr>\n",
       "    <tr>\n",
       "      <th>NEAREST_SCH_RANK</th>\n",
       "      <td>22704.0</td>\n",
       "      <td>72.672569</td>\n",
       "      <td>40.639795</td>\n",
       "      <td>1.000000</td>\n",
       "      <td>39.000000</td>\n",
       "      <td>68.000000</td>\n",
       "      <td>105.000000</td>\n",
       "      <td>1.390000e+02</td>\n",
       "    </tr>\n",
       "  </tbody>\n",
       "</table>\n",
       "</div>"
      ],
      "text/plain": [
       "                    count           mean            std           min  \\\n",
       "PRICE             33656.0  637072.005794  355825.632737  51000.000000   \n",
       "BEDROOMS          33656.0       3.659110       0.752038      1.000000   \n",
       "BATHROOMS         33656.0       1.823063       0.587427      1.000000   \n",
       "GARAGE            31178.0       2.199917       1.365225      1.000000   \n",
       "LAND_AREA         33656.0    2740.644016   16693.513215     61.000000   \n",
       "FLOOR_AREA        33656.0     183.501545      72.102982      1.000000   \n",
       "BUILD_YEAR        30501.0    1989.706436      20.964330   1868.000000   \n",
       "CBD_DIST          33656.0   19777.374465   11364.415413    681.000000   \n",
       "NEAREST_STN_DIST  33656.0    4523.371494    4495.064024     46.000000   \n",
       "POSTCODE          33656.0    6089.420074      62.167921   6003.000000   \n",
       "LATITUDE          33656.0     -31.960664       0.177780    -32.472979   \n",
       "LONGITUDE         33656.0     115.879265       0.118137    115.582730   \n",
       "NEAREST_SCH_DIST  33656.0       1.815268       1.746000      0.070912   \n",
       "NEAREST_SCH_RANK  22704.0      72.672569      40.639795      1.000000   \n",
       "\n",
       "                            25%            50%            75%           max  \n",
       "PRICE             410000.000000  535500.000000  760000.000000  2.440000e+06  \n",
       "BEDROOMS               3.000000       4.000000       4.000000  1.000000e+01  \n",
       "BATHROOMS              1.000000       2.000000       2.000000  1.600000e+01  \n",
       "GARAGE                 2.000000       2.000000       2.000000  9.900000e+01  \n",
       "LAND_AREA            503.000000     682.000000     838.000000  9.999990e+05  \n",
       "FLOOR_AREA           130.000000     172.000000     222.250000  8.700000e+02  \n",
       "BUILD_YEAR          1978.000000    1995.000000    2005.000000  2.017000e+03  \n",
       "CBD_DIST           11200.000000   17500.000000   26600.000000  5.980000e+04  \n",
       "NEAREST_STN_DIST    1800.000000    3200.000000    5300.000000  3.550000e+04  \n",
       "POSTCODE            6050.000000    6069.000000    6150.000000  6.558000e+03  \n",
       "LATITUDE             -32.068437     -31.933231     -31.843818 -3.145745e+01  \n",
       "LONGITUDE            115.789763     115.854198     115.970722  1.163432e+02  \n",
       "NEAREST_SCH_DIST       0.880568       1.345520       2.097225  2.325437e+01  \n",
       "NEAREST_SCH_RANK      39.000000      68.000000     105.000000  1.390000e+02  "
      ]
     },
     "execution_count": 4,
     "metadata": {},
     "output_type": "execute_result"
    }
   ],
   "source": [
    "# Describe the dataset\n",
    "housing_df.describe().T"
   ]
  },
  {
   "cell_type": "code",
   "execution_count": 5,
   "id": "835fd7ba",
   "metadata": {},
   "outputs": [
    {
     "data": {
      "text/plain": [
       "(33656, 19)"
      ]
     },
     "execution_count": 5,
     "metadata": {},
     "output_type": "execute_result"
    }
   ],
   "source": [
    "# The shape of the dataset\n",
    "housing_df.shape"
   ]
  },
  {
   "cell_type": "code",
   "execution_count": 6,
   "id": "d773bc3e",
   "metadata": {},
   "outputs": [
    {
     "data": {
      "text/plain": [
       "ADDRESS                 0\n",
       "SUBURB                  0\n",
       "PRICE                   0\n",
       "BEDROOMS                0\n",
       "BATHROOMS               0\n",
       "GARAGE               2478\n",
       "LAND_AREA               0\n",
       "FLOOR_AREA              0\n",
       "BUILD_YEAR           3155\n",
       "CBD_DIST                0\n",
       "NEAREST_STN             0\n",
       "NEAREST_STN_DIST        0\n",
       "DATE_SOLD               0\n",
       "POSTCODE                0\n",
       "LATITUDE                0\n",
       "LONGITUDE               0\n",
       "NEAREST_SCH             0\n",
       "NEAREST_SCH_DIST        0\n",
       "NEAREST_SCH_RANK    10952\n",
       "dtype: int64"
      ]
     },
     "execution_count": 6,
     "metadata": {},
     "output_type": "execute_result"
    }
   ],
   "source": [
    "# Count the number of null values\n",
    "housing_df.isnull().sum()"
   ]
  },
  {
   "cell_type": "code",
   "execution_count": 7,
   "id": "20bc443e",
   "metadata": {},
   "outputs": [
    {
     "data": {
      "text/plain": [
       "array([[<AxesSubplot:title={'center':'PRICE'}>,\n",
       "        <AxesSubplot:title={'center':'BEDROOMS'}>,\n",
       "        <AxesSubplot:title={'center':'BATHROOMS'}>,\n",
       "        <AxesSubplot:title={'center':'GARAGE'}>],\n",
       "       [<AxesSubplot:title={'center':'LAND_AREA'}>,\n",
       "        <AxesSubplot:title={'center':'FLOOR_AREA'}>,\n",
       "        <AxesSubplot:title={'center':'BUILD_YEAR'}>,\n",
       "        <AxesSubplot:title={'center':'CBD_DIST'}>],\n",
       "       [<AxesSubplot:title={'center':'NEAREST_STN_DIST'}>,\n",
       "        <AxesSubplot:title={'center':'POSTCODE'}>,\n",
       "        <AxesSubplot:title={'center':'LATITUDE'}>,\n",
       "        <AxesSubplot:title={'center':'LONGITUDE'}>],\n",
       "       [<AxesSubplot:title={'center':'NEAREST_SCH_DIST'}>,\n",
       "        <AxesSubplot:title={'center':'NEAREST_SCH_RANK'}>,\n",
       "        <AxesSubplot:>, <AxesSubplot:>]], dtype=object)"
      ]
     },
     "execution_count": 7,
     "metadata": {},
     "output_type": "execute_result"
    },
    {
     "data": {
      "image/png": "[encoded data removed]",
      "text/plain": [
       "<Figure size 1296x1008 with 16 Axes>"
      ]
     },
     "metadata": {
      "needs_background": "light"
     },
     "output_type": "display_data"
    }
   ],
   "source": [
    "# Show histograms of all of the numerical columns\n",
    "numerical_cols = list(housing_df.select_dtypes(['int64', 'float64']))\n",
    "data_plot = housing_df[numerical_cols].hist(bins=40, figsize=(18,14))\n",
    "data_plot"
   ]
  },
  {
   "cell_type": "markdown",
   "id": "a8324f12",
   "metadata": {},
   "source": [
    "# Exploratory Data Analysis"
   ]
  },
  {
   "cell_type": "markdown",
   "id": "7a36be43",
   "metadata": {},
   "source": [
    "### Address "
   ]
  },
  {
   "cell_type": "code",
   "execution_count": 8,
   "id": "4e64be22",
   "metadata": {},
   "outputs": [
    {
     "data": {
      "text/plain": [
       "33566"
      ]
     },
     "execution_count": 8,
     "metadata": {},
     "output_type": "execute_result"
    }
   ],
   "source": [
    "# Find the number of unique adresses in the dataset\n",
    "housing_df[\"ADDRESS\"].nunique()"
   ]
  },
  {
   "cell_type": "markdown",
   "id": "72936b67",
   "metadata": {},
   "source": [
    "### Suburb"
   ]
  },
  {
   "cell_type": "code",
   "execution_count": 9,
   "id": "3077c8c8",
   "metadata": {},
   "outputs": [
    {
     "data": {
      "text/plain": [
       "Bertram            231\n",
       "Iluka              212\n",
       "Bennett Springs    211\n",
       "Mindarie           209\n",
       "Carramar           208\n",
       "                  ... \n",
       "Munster              1\n",
       "Kwinana Beach        1\n",
       "Welshpool            1\n",
       "Wangara              1\n",
       "Naval Base           1\n",
       "Name: SUBURB, Length: 321, dtype: int64"
      ]
     },
     "execution_count": 9,
     "metadata": {},
     "output_type": "execute_result"
    }
   ],
   "source": [
    "# What is the value count of the suburbs of the dataset\n",
    "housing_df[\"SUBURB\"].value_counts()"
   ]
  },
  {
   "cell_type": "code",
   "execution_count": 10,
   "id": "81a87ca0",
   "metadata": {},
   "outputs": [
    {
     "data": {
      "text/plain": [
       "321"
      ]
     },
     "execution_count": 10,
     "metadata": {},
     "output_type": "execute_result"
    }
   ],
   "source": [
    "# How many unique suburbs are there in this dataset\n",
    "housing_df[\"SUBURB\"].nunique()"
   ]
  },
  {
   "cell_type": "markdown",
   "id": "72d5580f",
   "metadata": {},
   "source": [
    "### Price"
   ]
  },
  {
   "cell_type": "code",
   "execution_count": 11,
   "id": "78c6e76c",
   "metadata": {},
   "outputs": [],
   "source": [
    "# put the prices into bins to show how the prices of the dataset are distributed\n",
    "bins = [0, 200000, 500000, 900000, 2500000]\n",
    "# create the labels which each bin will be assigned to\n",
    "labels = [\"< $200000\", \"$200000 - $500000\", \"500000 - 900000\", \"> $900000\"]\n",
    "price_df = housing_df.copy()\n",
    "price_df[\"PRICEGRP\"] = pd.cut(housing_df[\"PRICE\"], bins, labels=labels, right=False)\n",
    "group = price_df[\"PRICEGRP\"].value_counts()"
   ]
  },
  {
   "cell_type": "code",
   "execution_count": 12,
   "id": "459846d1",
   "metadata": {},
   "outputs": [
    {
     "data": {
      "image/png": "[encoded data removed]",
      "text/plain": [
       "<Figure size 432x288 with 1 Axes>"
      ]
     },
     "metadata": {},
     "output_type": "display_data"
    }
   ],
   "source": [
    "# Put these bin into a pie chart\n",
    "plt.pie(group, labels=labels, autopct=\"%1.1f%%\")\n",
    "plt.title(\"Price\")\n",
    "plt.show()"
   ]
  },
  {
   "cell_type": "code",
   "execution_count": 13,
   "id": "7e46106c",
   "metadata": {},
   "outputs": [
    {
     "data": {
      "text/plain": [
       "<AxesSubplot:xlabel='PRICE'>"
      ]
     },
     "execution_count": 13,
     "metadata": {},
     "output_type": "execute_result"
    },
    {
     "data": {
      "image/png": "[encoded data removed]",
      "text/plain": [
       "<Figure size 720x576 with 1 Axes>"
      ]
     },
     "metadata": {
      "needs_background": "light"
     },
     "output_type": "display_data"
    }
   ],
   "source": [
    "# Create a boxplot for the prices of houses to see how the data is distributed\n",
    "plt.figure(figsize=(10,8))\n",
    "sns.boxenplot(x=housing_df[\"PRICE\"])"
   ]
  },
  {
   "cell_type": "markdown",
   "id": "7e8eb2f8",
   "metadata": {},
   "source": [
    "### Bedrooms"
   ]
  },
  {
   "cell_type": "code",
   "execution_count": 14,
   "id": "233f07da",
   "metadata": {},
   "outputs": [
    {
     "data": {
      "text/plain": [
       "4     17635\n",
       "3     11617\n",
       "5      2476\n",
       "2      1457\n",
       "6       296\n",
       "1        95\n",
       "7        53\n",
       "8        21\n",
       "9         4\n",
       "10        2\n",
       "Name: BEDROOMS, dtype: int64"
      ]
     },
     "execution_count": 14,
     "metadata": {},
     "output_type": "execute_result"
    }
   ],
   "source": [
    "# What is the value_counts for the number of bedrooms\n",
    "bedrooms = housing_df[\"BEDROOMS\"].value_counts()\n",
    "bedrooms"
   ]
  },
  {
   "cell_type": "code",
   "execution_count": 15,
   "id": "c744e18c",
   "metadata": {},
   "outputs": [
    {
     "data": {
      "text/plain": [
       "<AxesSubplot:title={'center':'Number of Bedrooms'}>"
      ]
     },
     "execution_count": 15,
     "metadata": {},
     "output_type": "execute_result"
    },
    {
     "data": {
      "image/png": "[encoded data removed]",
      "text/plain": [
       "<Figure size 432x288 with 1 Axes>"
      ]
     },
     "metadata": {
      "needs_background": "light"
     },
     "output_type": "display_data"
    }
   ],
   "source": [
    "# Bar plot of the value_counts\n",
    "bedrooms.plot(kind=\"bar\", title=\"Number of Bedrooms\")"
   ]
  },
  {
   "cell_type": "markdown",
   "id": "f1b45294",
   "metadata": {},
   "source": [
    "### Garage"
   ]
  },
  {
   "cell_type": "code",
   "execution_count": 16,
   "id": "34d1c3e5",
   "metadata": {},
   "outputs": [
    {
     "data": {
      "text/plain": [
       "2.0     20724\n",
       "1.0      5290\n",
       "3.0      2042\n",
       "4.0      1949\n",
       "6.0       466\n",
       "5.0       362\n",
       "8.0       129\n",
       "7.0        97\n",
       "12.0       30\n",
       "10.0       26\n",
       "9.0        17\n",
       "14.0       13\n",
       "13.0        8\n",
       "11.0        7\n",
       "16.0        4\n",
       "18.0        3\n",
       "20.0        3\n",
       "32.0        1\n",
       "17.0        1\n",
       "21.0        1\n",
       "99.0        1\n",
       "26.0        1\n",
       "22.0        1\n",
       "50.0        1\n",
       "31.0        1\n",
       "Name: GARAGE, dtype: int64"
      ]
     },
     "execution_count": 16,
     "metadata": {},
     "output_type": "execute_result"
    }
   ],
   "source": [
    "# Garage value counts\n",
    "garage = housing_df[\"GARAGE\"].value_counts()\n",
    "garage"
   ]
  },
  {
   "cell_type": "code",
   "execution_count": 17,
   "id": "57cf778a",
   "metadata": {},
   "outputs": [
    {
     "data": {
      "text/plain": [
       "<AxesSubplot:title={'center':'Number of Garage Units'}>"
      ]
     },
     "execution_count": 17,
     "metadata": {},
     "output_type": "execute_result"
    },
    {
     "data": {
      "image/png": "[encoded data removed]",
      "text/plain": [
       "<Figure size 432x288 with 1 Axes>"
      ]
     },
     "metadata": {
      "needs_background": "light"
     },
     "output_type": "display_data"
    }
   ],
   "source": [
    "# Plot this into a bar plot\n",
    "garage.plot(kind=\"bar\", title=\"Number of Garage Units\")"
   ]
  },
  {
   "cell_type": "code",
   "execution_count": 18,
   "id": "df23a953",
   "metadata": {},
   "outputs": [
    {
     "data": {
      "text/plain": [
       "<AxesSubplot:xlabel='GARAGE'>"
      ]
     },
     "execution_count": 18,
     "metadata": {},
     "output_type": "execute_result"
    },
    {
     "data": {
      "image/png": "[encoded data removed]",
      "text/plain": [
       "<Figure size 720x576 with 1 Axes>"
      ]
     },
     "metadata": {
      "needs_background": "light"
     },
     "output_type": "display_data"
    }
   ],
   "source": [
    "# Create a box plot to show the outliers\n",
    "plt.figure(figsize=(10,8))\n",
    "sns.boxenplot(x=housing_df[\"GARAGE\"])"
   ]
  },
  {
   "cell_type": "markdown",
   "id": "48e0116c",
   "metadata": {},
   "source": [
    "### Land Area"
   ]
  },
  {
   "cell_type": "code",
   "execution_count": 19,
   "id": "2f224e21",
   "metadata": {},
   "outputs": [
    {
     "data": {
      "text/plain": [
       "<AxesSubplot:xlabel='LAND_AREA'>"
      ]
     },
     "execution_count": 19,
     "metadata": {},
     "output_type": "execute_result"
    },
    {
     "data": {
      "image/png": "[encoded data removed]",
      "text/plain": [
       "<Figure size 720x576 with 1 Axes>"
      ]
     },
     "metadata": {
      "needs_background": "light"
     },
     "output_type": "display_data"
    }
   ],
   "source": [
    "# Create a boxplot highlighting the Land Area outliers\n",
    "plt.figure(figsize=(10,8))\n",
    "sns.boxenplot(x=housing_df[\"LAND_AREA\"])"
   ]
  },
  {
   "cell_type": "markdown",
   "id": "02d180bb",
   "metadata": {},
   "source": [
    "### Floor Area"
   ]
  },
  {
   "cell_type": "code",
   "execution_count": 20,
   "id": "0116e9ea",
   "metadata": {},
   "outputs": [
    {
     "name": "stdout",
     "output_type": "stream",
     "text": [
      "the minimum floor area in our dataset is 1 and the maximum floor area is 870\n"
     ]
    }
   ],
   "source": [
    "# What are the minimum and maximum floor area values in the dataset \n",
    "max_fa = housing_df[\"FLOOR_AREA\"].max()\n",
    "min_fa = housing_df[\"FLOOR_AREA\"].min()\n",
    "print(f\"the minimum floor area in our dataset is {min_fa} and the maximum floor area is {max_fa}\")"
   ]
  },
  {
   "cell_type": "code",
   "execution_count": 38,
   "id": "cc095127",
   "metadata": {},
   "outputs": [
    {
     "data": {
      "image/png": "[encoded data removed]",
      "text/plain": [
       "<Figure size 432x288 with 1 Axes>"
      ]
     },
     "metadata": {
      "needs_background": "light"
     },
     "output_type": "display_data"
    }
   ],
   "source": [
    "# Plot the spread of this data into a histogram\n",
    "plt.hist(housing_df[\"FLOOR_AREA\"], bins = 20)\n",
    "plt.title(\"Floor Area\")\n",
    "plt.show()"
   ]
  },
  {
   "cell_type": "code",
   "execution_count": 22,
   "id": "c167afd3",
   "metadata": {},
   "outputs": [
    {
     "data": {
      "text/plain": [
       "<AxesSubplot:xlabel='FLOOR_AREA'>"
      ]
     },
     "execution_count": 22,
     "metadata": {},
     "output_type": "execute_result"
    },
    {
     "data": {
      "image/png": "[encoded data removed]",
      "text/plain": [
       "<Figure size 720x576 with 1 Axes>"
      ]
     },
     "metadata": {
      "needs_background": "light"
     },
     "output_type": "display_data"
    }
   ],
   "source": [
    "# Plot a bpxplot for the floor area\n",
    "plt.figure(figsize=(10,8))\n",
    "sns.boxenplot(x=housing_df[\"FLOOR_AREA\"])"
   ]
  },
  {
   "cell_type": "markdown",
   "id": "73023cbe",
   "metadata": {},
   "source": [
    "### Build Year"
   ]
  },
  {
   "cell_type": "code",
   "execution_count": 23,
   "id": "4a82cd61",
   "metadata": {},
   "outputs": [],
   "source": [
    "# Ahmed"
   ]
  },
  {
   "cell_type": "markdown",
   "id": "4378743f",
   "metadata": {},
   "source": [
    "### CBD Dist"
   ]
  },
  {
   "cell_type": "code",
   "execution_count": null,
   "id": "02925214",
   "metadata": {},
   "outputs": [],
   "source": []
  },
  {
   "cell_type": "markdown",
   "id": "02a7d0d5",
   "metadata": {},
   "source": [
    "### Nearest Stn"
   ]
  },
  {
   "cell_type": "code",
   "execution_count": null,
   "id": "885862b2",
   "metadata": {},
   "outputs": [],
   "source": []
  },
  {
   "cell_type": "markdown",
   "id": "a04d1ebb",
   "metadata": {},
   "source": [
    "### Nearest Stn Dist"
   ]
  },
  {
   "cell_type": "code",
   "execution_count": null,
   "id": "1a9b9b12",
   "metadata": {},
   "outputs": [],
   "source": []
  },
  {
   "cell_type": "markdown",
   "id": "ac0c9768",
   "metadata": {},
   "source": [
    "### Date Sold"
   ]
  },
  {
   "cell_type": "code",
   "execution_count": null,
   "id": "11c0a020",
   "metadata": {},
   "outputs": [],
   "source": []
  },
  {
   "cell_type": "markdown",
   "id": "dbdf0789",
   "metadata": {},
   "source": [
    "### Post Code"
   ]
  },
  {
   "cell_type": "code",
   "execution_count": 24,
   "id": "311cbe77",
   "metadata": {},
   "outputs": [],
   "source": [
    "# Ahmed"
   ]
  },
  {
   "cell_type": "markdown",
   "id": "de71e50e",
   "metadata": {},
   "source": [
    "### Latitude"
   ]
  },
  {
   "cell_type": "code",
   "execution_count": 25,
   "id": "5fc51f97",
   "metadata": {},
   "outputs": [],
   "source": [
    "# Hardip"
   ]
  },
  {
   "cell_type": "markdown",
   "id": "578b94df",
   "metadata": {},
   "source": [
    "### Longitude"
   ]
  },
  {
   "cell_type": "code",
   "execution_count": null,
   "id": "ef62d1ca",
   "metadata": {},
   "outputs": [],
   "source": []
  },
  {
   "cell_type": "markdown",
   "id": "65735a53",
   "metadata": {},
   "source": [
    "### Nearest School"
   ]
  },
  {
   "cell_type": "code",
   "execution_count": null,
   "id": "5d934da3",
   "metadata": {},
   "outputs": [],
   "source": []
  },
  {
   "cell_type": "markdown",
   "id": "7a18c3d0",
   "metadata": {},
   "source": [
    "### Nearest School Dist"
   ]
  },
  {
   "cell_type": "code",
   "execution_count": null,
   "id": "d91bb84e",
   "metadata": {},
   "outputs": [],
   "source": []
  },
  {
   "cell_type": "markdown",
   "id": "30d33476",
   "metadata": {},
   "source": [
    "### Nearest School Rank"
   ]
  },
  {
   "cell_type": "code",
   "execution_count": 26,
   "id": "05ff5dfa",
   "metadata": {},
   "outputs": [],
   "source": [
    "# Hardip"
   ]
  },
  {
   "cell_type": "code",
   "execution_count": 27,
   "id": "73a26804",
   "metadata": {},
   "outputs": [],
   "source": [
    "housing_df.drop([\"ADDRESS\", \"NEAREST_SCH_RANK\"], axis=1, inplace=True)"
   ]
  },
  {
   "cell_type": "code",
   "execution_count": 28,
   "id": "ff7fab30",
   "metadata": {},
   "outputs": [
    {
     "data": {
      "text/plain": [
       "2.0     20724\n",
       "1.0      5290\n",
       "3.0      2042\n",
       "4.0      1949\n",
       "6.0       466\n",
       "5.0       362\n",
       "8.0       129\n",
       "7.0        97\n",
       "12.0       30\n",
       "10.0       26\n",
       "9.0        17\n",
       "14.0       13\n",
       "13.0        8\n",
       "11.0        7\n",
       "16.0        4\n",
       "18.0        3\n",
       "20.0        3\n",
       "32.0        1\n",
       "17.0        1\n",
       "21.0        1\n",
       "99.0        1\n",
       "26.0        1\n",
       "22.0        1\n",
       "50.0        1\n",
       "31.0        1\n",
       "Name: GARAGE, dtype: int64"
      ]
     },
     "execution_count": 28,
     "metadata": {},
     "output_type": "execute_result"
    }
   ],
   "source": [
    "housing_df[\"GARAGE\"].value_counts()"
   ]
  },
  {
   "cell_type": "code",
   "execution_count": 29,
   "id": "9327783d",
   "metadata": {},
   "outputs": [],
   "source": [
    "housing_df[\"GARAGE\"] = housing_df[\"GARAGE\"].fillna(housing_df[\"GARAGE\"].mode()[0])\n",
    "housing_df[\"BUILD_YEAR\"] = housing_df[\"BUILD_YEAR\"].fillna(housing_df[\"BUILD_YEAR\"].mode()[0])"
   ]
  },
  {
   "cell_type": "code",
   "execution_count": 30,
   "id": "e9c989d9",
   "metadata": {},
   "outputs": [],
   "source": [
    "\n",
    "housing_df.PRICE = housing_df.PRICE.astype('int')\n",
    "housing_df.BEDROOMS = housing_df.BEDROOMS.astype('int')\n",
    "housing_df.BATHROOMS = housing_df.BATHROOMS.astype('int')\n",
    "housing_df.GARAGE = housing_df.GARAGE.astype('int')\n",
    "housing_df.LAND_AREA = housing_df.LAND_AREA.astype('int')\n",
    "housing_df.FLOOR_AREA = housing_df.FLOOR_AREA.astype('int')\n",
    "housing_df[\"DATE_SOLD\"] = pd.to_datetime(housing_df[\"DATE_SOLD\"])\n",
    "housing_df[\"DATE_YEAR\"] = housing_df[\"DATE_SOLD\"].dt.year\n",
    "housing_df[\"DATE_MONTH\"] = housing_df[\"DATE_SOLD\"].dt.month\n",
    "housing_df.BUILD_YEAR= housing_df.BUILD_YEAR.astype('int')\n",
    "housing_df.CBD_DIST= housing_df.CBD_DIST.astype('int')\n",
    "housing_df.NEAREST_STN_DIST= housing_df.NEAREST_STN_DIST.astype('int')\n",
    "housing_df.POSTCODE= housing_df.POSTCODE.astype('int')\n",
    "housing_df.LATITUDE= housing_df.LATITUDE.astype('float')\n",
    "housing_df.LONGITUDE= housing_df.LONGITUDE.astype('float')\n",
    "housing_df.NEAREST_SCH_DIST= housing_df.NEAREST_SCH_DIST.astype('float')\n"
   ]
  },
  {
   "cell_type": "code",
   "execution_count": 31,
   "id": "7b1da8ec",
   "metadata": {},
   "outputs": [
    {
     "name": "stdout",
     "output_type": "stream",
     "text": [
      "<class 'pandas.core.frame.DataFrame'>\n",
      "RangeIndex: 33656 entries, 0 to 33655\n",
      "Data columns (total 19 columns):\n",
      " #   Column            Non-Null Count  Dtype         \n",
      "---  ------            --------------  -----         \n",
      " 0   SUBURB            33656 non-null  object        \n",
      " 1   PRICE             33656 non-null  int32         \n",
      " 2   BEDROOMS          33656 non-null  int32         \n",
      " 3   BATHROOMS         33656 non-null  int32         \n",
      " 4   GARAGE            33656 non-null  int32         \n",
      " 5   LAND_AREA         33656 non-null  int32         \n",
      " 6   FLOOR_AREA        33656 non-null  int32         \n",
      " 7   BUILD_YEAR        33656 non-null  int32         \n",
      " 8   CBD_DIST          33656 non-null  int32         \n",
      " 9   NEAREST_STN       33656 non-null  object        \n",
      " 10  NEAREST_STN_DIST  33656 non-null  int32         \n",
      " 11  DATE_SOLD         33656 non-null  datetime64[ns]\n",
      " 12  POSTCODE          33656 non-null  int32         \n",
      " 13  LATITUDE          33656 non-null  float64       \n",
      " 14  LONGITUDE         33656 non-null  float64       \n",
      " 15  NEAREST_SCH       33656 non-null  object        \n",
      " 16  NEAREST_SCH_DIST  33656 non-null  float64       \n",
      " 17  DATE_YEAR         33656 non-null  int64         \n",
      " 18  DATE_MONTH        33656 non-null  int64         \n",
      "dtypes: datetime64[ns](1), float64(3), int32(10), int64(2), object(3)\n",
      "memory usage: 3.6+ MB\n"
     ]
    }
   ],
   "source": [
    "housing_df.info()"
   ]
  },
  {
   "cell_type": "code",
   "execution_count": 32,
   "id": "b5b73bc6",
   "metadata": {},
   "outputs": [],
   "source": [
    "housing_df.drop([\"DATE_SOLD\"], axis=1, inplace=True)"
   ]
  },
  {
   "cell_type": "code",
   "execution_count": 33,
   "id": "f7d42db0",
   "metadata": {},
   "outputs": [
    {
     "data": {
      "text/html": [
       "<div>\n",
       "<style scoped>\n",
       "    .dataframe tbody tr th:only-of-type {\n",
       "        vertical-align: middle;\n",
       "    }\n",
       "\n",
       "    .dataframe tbody tr th {\n",
       "        vertical-align: top;\n",
       "    }\n",
       "\n",
       "    .dataframe thead th {\n",
       "        text-align: right;\n",
       "    }\n",
       "</style>\n",
       "<table border=\"1\" class=\"dataframe\">\n",
       "  <thead>\n",
       "    <tr style=\"text-align: right;\">\n",
       "      <th></th>\n",
       "      <th>SUBURB</th>\n",
       "      <th>PRICE</th>\n",
       "      <th>BEDROOMS</th>\n",
       "      <th>BATHROOMS</th>\n",
       "      <th>GARAGE</th>\n",
       "      <th>LAND_AREA</th>\n",
       "      <th>FLOOR_AREA</th>\n",
       "      <th>BUILD_YEAR</th>\n",
       "      <th>CBD_DIST</th>\n",
       "      <th>NEAREST_STN</th>\n",
       "      <th>NEAREST_STN_DIST</th>\n",
       "      <th>POSTCODE</th>\n",
       "      <th>LATITUDE</th>\n",
       "      <th>LONGITUDE</th>\n",
       "      <th>NEAREST_SCH</th>\n",
       "      <th>NEAREST_SCH_DIST</th>\n",
       "      <th>DATE_YEAR</th>\n",
       "      <th>DATE_MONTH</th>\n",
       "    </tr>\n",
       "  </thead>\n",
       "  <tbody>\n",
       "    <tr>\n",
       "      <th>0</th>\n",
       "      <td>South Lake</td>\n",
       "      <td>565000</td>\n",
       "      <td>4</td>\n",
       "      <td>2</td>\n",
       "      <td>2</td>\n",
       "      <td>600</td>\n",
       "      <td>160</td>\n",
       "      <td>2003</td>\n",
       "      <td>18300</td>\n",
       "      <td>Cockburn Central Station</td>\n",
       "      <td>1800</td>\n",
       "      <td>6164</td>\n",
       "      <td>-32.115900</td>\n",
       "      <td>115.842450</td>\n",
       "      <td>LAKELAND SENIOR HIGH SCHOOL</td>\n",
       "      <td>0.828339</td>\n",
       "      <td>2018</td>\n",
       "      <td>9</td>\n",
       "    </tr>\n",
       "    <tr>\n",
       "      <th>1</th>\n",
       "      <td>Wandi</td>\n",
       "      <td>365000</td>\n",
       "      <td>3</td>\n",
       "      <td>2</td>\n",
       "      <td>2</td>\n",
       "      <td>351</td>\n",
       "      <td>139</td>\n",
       "      <td>2013</td>\n",
       "      <td>26900</td>\n",
       "      <td>Kwinana Station</td>\n",
       "      <td>4900</td>\n",
       "      <td>6167</td>\n",
       "      <td>-32.193470</td>\n",
       "      <td>115.859554</td>\n",
       "      <td>ATWELL COLLEGE</td>\n",
       "      <td>5.524324</td>\n",
       "      <td>2019</td>\n",
       "      <td>2</td>\n",
       "    </tr>\n",
       "    <tr>\n",
       "      <th>2</th>\n",
       "      <td>Camillo</td>\n",
       "      <td>287000</td>\n",
       "      <td>3</td>\n",
       "      <td>1</td>\n",
       "      <td>1</td>\n",
       "      <td>719</td>\n",
       "      <td>86</td>\n",
       "      <td>1979</td>\n",
       "      <td>22600</td>\n",
       "      <td>Challis Station</td>\n",
       "      <td>1900</td>\n",
       "      <td>6111</td>\n",
       "      <td>-32.120578</td>\n",
       "      <td>115.993579</td>\n",
       "      <td>KELMSCOTT SENIOR HIGH SCHOOL</td>\n",
       "      <td>1.649178</td>\n",
       "      <td>2015</td>\n",
       "      <td>6</td>\n",
       "    </tr>\n",
       "    <tr>\n",
       "      <th>3</th>\n",
       "      <td>Bellevue</td>\n",
       "      <td>255000</td>\n",
       "      <td>2</td>\n",
       "      <td>1</td>\n",
       "      <td>2</td>\n",
       "      <td>651</td>\n",
       "      <td>59</td>\n",
       "      <td>1953</td>\n",
       "      <td>17900</td>\n",
       "      <td>Midland Station</td>\n",
       "      <td>3600</td>\n",
       "      <td>6056</td>\n",
       "      <td>-31.900547</td>\n",
       "      <td>116.038009</td>\n",
       "      <td>SWAN VIEW SENIOR HIGH SCHOOL</td>\n",
       "      <td>1.571401</td>\n",
       "      <td>2018</td>\n",
       "      <td>7</td>\n",
       "    </tr>\n",
       "    <tr>\n",
       "      <th>4</th>\n",
       "      <td>Lockridge</td>\n",
       "      <td>325000</td>\n",
       "      <td>4</td>\n",
       "      <td>1</td>\n",
       "      <td>2</td>\n",
       "      <td>466</td>\n",
       "      <td>131</td>\n",
       "      <td>1998</td>\n",
       "      <td>11200</td>\n",
       "      <td>Bassendean Station</td>\n",
       "      <td>2000</td>\n",
       "      <td>6054</td>\n",
       "      <td>-31.885790</td>\n",
       "      <td>115.947780</td>\n",
       "      <td>KIARA COLLEGE</td>\n",
       "      <td>1.514922</td>\n",
       "      <td>2016</td>\n",
       "      <td>11</td>\n",
       "    </tr>\n",
       "  </tbody>\n",
       "</table>\n",
       "</div>"
      ],
      "text/plain": [
       "       SUBURB   PRICE  BEDROOMS  BATHROOMS  GARAGE  LAND_AREA  FLOOR_AREA  \\\n",
       "0  South Lake  565000         4          2       2        600         160   \n",
       "1       Wandi  365000         3          2       2        351         139   \n",
       "2     Camillo  287000         3          1       1        719          86   \n",
       "3    Bellevue  255000         2          1       2        651          59   \n",
       "4   Lockridge  325000         4          1       2        466         131   \n",
       "\n",
       "   BUILD_YEAR  CBD_DIST               NEAREST_STN  NEAREST_STN_DIST  POSTCODE  \\\n",
       "0        2003     18300  Cockburn Central Station              1800      6164   \n",
       "1        2013     26900           Kwinana Station              4900      6167   \n",
       "2        1979     22600           Challis Station              1900      6111   \n",
       "3        1953     17900           Midland Station              3600      6056   \n",
       "4        1998     11200        Bassendean Station              2000      6054   \n",
       "\n",
       "    LATITUDE   LONGITUDE                   NEAREST_SCH  NEAREST_SCH_DIST  \\\n",
       "0 -32.115900  115.842450   LAKELAND SENIOR HIGH SCHOOL          0.828339   \n",
       "1 -32.193470  115.859554                ATWELL COLLEGE          5.524324   \n",
       "2 -32.120578  115.993579  KELMSCOTT SENIOR HIGH SCHOOL          1.649178   \n",
       "3 -31.900547  116.038009  SWAN VIEW SENIOR HIGH SCHOOL          1.571401   \n",
       "4 -31.885790  115.947780                 KIARA COLLEGE          1.514922   \n",
       "\n",
       "   DATE_YEAR  DATE_MONTH  \n",
       "0       2018           9  \n",
       "1       2019           2  \n",
       "2       2015           6  \n",
       "3       2018           7  \n",
       "4       2016          11  "
      ]
     },
     "execution_count": 33,
     "metadata": {},
     "output_type": "execute_result"
    }
   ],
   "source": [
    "housing_df.head()"
   ]
  },
  {
   "cell_type": "code",
   "execution_count": 34,
   "id": "96ec6ad5",
   "metadata": {},
   "outputs": [
    {
     "data": {
      "text/plain": [
       "2018    5621\n",
       "2019    5285\n",
       "2020    5261\n",
       "2017    4844\n",
       "2016    3901\n",
       "2015    3050\n",
       "2014    1947\n",
       "2013    1178\n",
       "2012     615\n",
       "2011     362\n",
       "2010     271\n",
       "2009     242\n",
       "2007     143\n",
       "2008     141\n",
       "2006     133\n",
       "2005     115\n",
       "2003      86\n",
       "2002      85\n",
       "2004      74\n",
       "2001      52\n",
       "1998      41\n",
       "2000      36\n",
       "1999      32\n",
       "1995      22\n",
       "1997      22\n",
       "1994      21\n",
       "1996      17\n",
       "1991      12\n",
       "1993      12\n",
       "1992      11\n",
       "1988       9\n",
       "1989       8\n",
       "1990       7\n",
       "Name: DATE_YEAR, dtype: int64"
      ]
     },
     "execution_count": 34,
     "metadata": {},
     "output_type": "execute_result"
    }
   ],
   "source": [
    "housing_df[\"DATE_YEAR\"].value_counts()"
   ]
  },
  {
   "cell_type": "code",
   "execution_count": null,
   "id": "2cd88067",
   "metadata": {},
   "outputs": [],
   "source": []
  },
  {
   "cell_type": "code",
   "execution_count": 35,
   "id": "fbef2988",
   "metadata": {},
   "outputs": [
    {
     "data": {
      "text/html": [
       "<div>\n",
       "<style scoped>\n",
       "    .dataframe tbody tr th:only-of-type {\n",
       "        vertical-align: middle;\n",
       "    }\n",
       "\n",
       "    .dataframe tbody tr th {\n",
       "        vertical-align: top;\n",
       "    }\n",
       "\n",
       "    .dataframe thead th {\n",
       "        text-align: right;\n",
       "    }\n",
       "</style>\n",
       "<table border=\"1\" class=\"dataframe\">\n",
       "  <thead>\n",
       "    <tr style=\"text-align: right;\">\n",
       "      <th></th>\n",
       "      <th>SUBURB</th>\n",
       "      <th>PRICE</th>\n",
       "      <th>BEDROOMS</th>\n",
       "      <th>BATHROOMS</th>\n",
       "      <th>GARAGE</th>\n",
       "      <th>LAND_AREA</th>\n",
       "      <th>FLOOR_AREA</th>\n",
       "      <th>BUILD_YEAR</th>\n",
       "      <th>CBD_DIST</th>\n",
       "      <th>NEAREST_STN</th>\n",
       "      <th>NEAREST_STN_DIST</th>\n",
       "      <th>POSTCODE</th>\n",
       "      <th>LATITUDE</th>\n",
       "      <th>LONGITUDE</th>\n",
       "      <th>NEAREST_SCH</th>\n",
       "      <th>NEAREST_SCH_DIST</th>\n",
       "      <th>DATE_YEAR</th>\n",
       "      <th>DATE_MONTH</th>\n",
       "    </tr>\n",
       "  </thead>\n",
       "  <tbody>\n",
       "    <tr>\n",
       "      <th>0</th>\n",
       "      <td>South Lake</td>\n",
       "      <td>565000</td>\n",
       "      <td>4</td>\n",
       "      <td>2</td>\n",
       "      <td>2</td>\n",
       "      <td>600</td>\n",
       "      <td>160</td>\n",
       "      <td>2003</td>\n",
       "      <td>18300</td>\n",
       "      <td>Cockburn Central Station</td>\n",
       "      <td>1800</td>\n",
       "      <td>6164</td>\n",
       "      <td>-32.115900</td>\n",
       "      <td>115.842450</td>\n",
       "      <td>LAKELAND SENIOR HIGH SCHOOL</td>\n",
       "      <td>0.828339</td>\n",
       "      <td>2018</td>\n",
       "      <td>9</td>\n",
       "    </tr>\n",
       "    <tr>\n",
       "      <th>1</th>\n",
       "      <td>Wandi</td>\n",
       "      <td>365000</td>\n",
       "      <td>3</td>\n",
       "      <td>2</td>\n",
       "      <td>2</td>\n",
       "      <td>351</td>\n",
       "      <td>139</td>\n",
       "      <td>2013</td>\n",
       "      <td>26900</td>\n",
       "      <td>Kwinana Station</td>\n",
       "      <td>4900</td>\n",
       "      <td>6167</td>\n",
       "      <td>-32.193470</td>\n",
       "      <td>115.859554</td>\n",
       "      <td>ATWELL COLLEGE</td>\n",
       "      <td>5.524324</td>\n",
       "      <td>2019</td>\n",
       "      <td>2</td>\n",
       "    </tr>\n",
       "    <tr>\n",
       "      <th>2</th>\n",
       "      <td>Camillo</td>\n",
       "      <td>287000</td>\n",
       "      <td>3</td>\n",
       "      <td>1</td>\n",
       "      <td>1</td>\n",
       "      <td>719</td>\n",
       "      <td>86</td>\n",
       "      <td>1979</td>\n",
       "      <td>22600</td>\n",
       "      <td>Challis Station</td>\n",
       "      <td>1900</td>\n",
       "      <td>6111</td>\n",
       "      <td>-32.120578</td>\n",
       "      <td>115.993579</td>\n",
       "      <td>KELMSCOTT SENIOR HIGH SCHOOL</td>\n",
       "      <td>1.649178</td>\n",
       "      <td>2015</td>\n",
       "      <td>6</td>\n",
       "    </tr>\n",
       "    <tr>\n",
       "      <th>3</th>\n",
       "      <td>Bellevue</td>\n",
       "      <td>255000</td>\n",
       "      <td>2</td>\n",
       "      <td>1</td>\n",
       "      <td>2</td>\n",
       "      <td>651</td>\n",
       "      <td>59</td>\n",
       "      <td>1953</td>\n",
       "      <td>17900</td>\n",
       "      <td>Midland Station</td>\n",
       "      <td>3600</td>\n",
       "      <td>6056</td>\n",
       "      <td>-31.900547</td>\n",
       "      <td>116.038009</td>\n",
       "      <td>SWAN VIEW SENIOR HIGH SCHOOL</td>\n",
       "      <td>1.571401</td>\n",
       "      <td>2018</td>\n",
       "      <td>7</td>\n",
       "    </tr>\n",
       "    <tr>\n",
       "      <th>4</th>\n",
       "      <td>Lockridge</td>\n",
       "      <td>325000</td>\n",
       "      <td>4</td>\n",
       "      <td>1</td>\n",
       "      <td>2</td>\n",
       "      <td>466</td>\n",
       "      <td>131</td>\n",
       "      <td>1998</td>\n",
       "      <td>11200</td>\n",
       "      <td>Bassendean Station</td>\n",
       "      <td>2000</td>\n",
       "      <td>6054</td>\n",
       "      <td>-31.885790</td>\n",
       "      <td>115.947780</td>\n",
       "      <td>KIARA COLLEGE</td>\n",
       "      <td>1.514922</td>\n",
       "      <td>2016</td>\n",
       "      <td>11</td>\n",
       "    </tr>\n",
       "    <tr>\n",
       "      <th>5</th>\n",
       "      <td>Mount Richon</td>\n",
       "      <td>409000</td>\n",
       "      <td>4</td>\n",
       "      <td>2</td>\n",
       "      <td>1</td>\n",
       "      <td>759</td>\n",
       "      <td>118</td>\n",
       "      <td>1991</td>\n",
       "      <td>27300</td>\n",
       "      <td>Armadale Station</td>\n",
       "      <td>1000</td>\n",
       "      <td>6112</td>\n",
       "      <td>-32.153801</td>\n",
       "      <td>116.023658</td>\n",
       "      <td>ARMADALE SENIOR HIGH SCHOOL</td>\n",
       "      <td>1.227219</td>\n",
       "      <td>2013</td>\n",
       "      <td>3</td>\n",
       "    </tr>\n",
       "    <tr>\n",
       "      <th>6</th>\n",
       "      <td>Hilbert</td>\n",
       "      <td>400000</td>\n",
       "      <td>3</td>\n",
       "      <td>2</td>\n",
       "      <td>2</td>\n",
       "      <td>386</td>\n",
       "      <td>132</td>\n",
       "      <td>2014</td>\n",
       "      <td>28200</td>\n",
       "      <td>Armadale Station</td>\n",
       "      <td>3700</td>\n",
       "      <td>6112</td>\n",
       "      <td>-32.179978</td>\n",
       "      <td>115.988647</td>\n",
       "      <td>DALE CHRISTIAN SCHOOL</td>\n",
       "      <td>2.485731</td>\n",
       "      <td>2016</td>\n",
       "      <td>5</td>\n",
       "    </tr>\n",
       "    <tr>\n",
       "      <th>7</th>\n",
       "      <td>Waikiki</td>\n",
       "      <td>370000</td>\n",
       "      <td>4</td>\n",
       "      <td>2</td>\n",
       "      <td>2</td>\n",
       "      <td>468</td>\n",
       "      <td>158</td>\n",
       "      <td>2013</td>\n",
       "      <td>41700</td>\n",
       "      <td>Warnbro Station</td>\n",
       "      <td>1100</td>\n",
       "      <td>6169</td>\n",
       "      <td>-32.317662</td>\n",
       "      <td>115.761968</td>\n",
       "      <td>SOUTH COAST BAPTIST COLLEGE</td>\n",
       "      <td>0.491573</td>\n",
       "      <td>2019</td>\n",
       "      <td>3</td>\n",
       "    </tr>\n",
       "    <tr>\n",
       "      <th>8</th>\n",
       "      <td>Hamersley</td>\n",
       "      <td>565000</td>\n",
       "      <td>4</td>\n",
       "      <td>2</td>\n",
       "      <td>3</td>\n",
       "      <td>875</td>\n",
       "      <td>168</td>\n",
       "      <td>1983</td>\n",
       "      <td>12100</td>\n",
       "      <td>Warwick Station</td>\n",
       "      <td>2500</td>\n",
       "      <td>6022</td>\n",
       "      <td>-31.847760</td>\n",
       "      <td>115.822700</td>\n",
       "      <td>WARWICK SENIOR HIGH SCHOOL</td>\n",
       "      <td>1.221928</td>\n",
       "      <td>2020</td>\n",
       "      <td>6</td>\n",
       "    </tr>\n",
       "    <tr>\n",
       "      <th>9</th>\n",
       "      <td>Bayswater</td>\n",
       "      <td>685000</td>\n",
       "      <td>3</td>\n",
       "      <td>2</td>\n",
       "      <td>8</td>\n",
       "      <td>552</td>\n",
       "      <td>126</td>\n",
       "      <td>1999</td>\n",
       "      <td>5900</td>\n",
       "      <td>Bayswater Station</td>\n",
       "      <td>508</td>\n",
       "      <td>6053</td>\n",
       "      <td>-31.917880</td>\n",
       "      <td>115.907050</td>\n",
       "      <td>CHISHOLM CATHOLIC COLLEGE</td>\n",
       "      <td>0.936243</td>\n",
       "      <td>2019</td>\n",
       "      <td>10</td>\n",
       "    </tr>\n",
       "  </tbody>\n",
       "</table>\n",
       "</div>"
      ],
      "text/plain": [
       "         SUBURB   PRICE  BEDROOMS  BATHROOMS  GARAGE  LAND_AREA  FLOOR_AREA  \\\n",
       "0    South Lake  565000         4          2       2        600         160   \n",
       "1         Wandi  365000         3          2       2        351         139   \n",
       "2       Camillo  287000         3          1       1        719          86   \n",
       "3      Bellevue  255000         2          1       2        651          59   \n",
       "4     Lockridge  325000         4          1       2        466         131   \n",
       "5  Mount Richon  409000         4          2       1        759         118   \n",
       "6       Hilbert  400000         3          2       2        386         132   \n",
       "7       Waikiki  370000         4          2       2        468         158   \n",
       "8     Hamersley  565000         4          2       3        875         168   \n",
       "9     Bayswater  685000         3          2       8        552         126   \n",
       "\n",
       "   BUILD_YEAR  CBD_DIST               NEAREST_STN  NEAREST_STN_DIST  POSTCODE  \\\n",
       "0        2003     18300  Cockburn Central Station              1800      6164   \n",
       "1        2013     26900           Kwinana Station              4900      6167   \n",
       "2        1979     22600           Challis Station              1900      6111   \n",
       "3        1953     17900           Midland Station              3600      6056   \n",
       "4        1998     11200        Bassendean Station              2000      6054   \n",
       "5        1991     27300          Armadale Station              1000      6112   \n",
       "6        2014     28200          Armadale Station              3700      6112   \n",
       "7        2013     41700           Warnbro Station              1100      6169   \n",
       "8        1983     12100           Warwick Station              2500      6022   \n",
       "9        1999      5900         Bayswater Station               508      6053   \n",
       "\n",
       "    LATITUDE   LONGITUDE                   NEAREST_SCH  NEAREST_SCH_DIST  \\\n",
       "0 -32.115900  115.842450   LAKELAND SENIOR HIGH SCHOOL          0.828339   \n",
       "1 -32.193470  115.859554                ATWELL COLLEGE          5.524324   \n",
       "2 -32.120578  115.993579  KELMSCOTT SENIOR HIGH SCHOOL          1.649178   \n",
       "3 -31.900547  116.038009  SWAN VIEW SENIOR HIGH SCHOOL          1.571401   \n",
       "4 -31.885790  115.947780                 KIARA COLLEGE          1.514922   \n",
       "5 -32.153801  116.023658   ARMADALE SENIOR HIGH SCHOOL          1.227219   \n",
       "6 -32.179978  115.988647         DALE CHRISTIAN SCHOOL          2.485731   \n",
       "7 -32.317662  115.761968   SOUTH COAST BAPTIST COLLEGE          0.491573   \n",
       "8 -31.847760  115.822700    WARWICK SENIOR HIGH SCHOOL          1.221928   \n",
       "9 -31.917880  115.907050     CHISHOLM CATHOLIC COLLEGE          0.936243   \n",
       "\n",
       "   DATE_YEAR  DATE_MONTH  \n",
       "0       2018           9  \n",
       "1       2019           2  \n",
       "2       2015           6  \n",
       "3       2018           7  \n",
       "4       2016          11  \n",
       "5       2013           3  \n",
       "6       2016           5  \n",
       "7       2019           3  \n",
       "8       2020           6  \n",
       "9       2019          10  "
      ]
     },
     "execution_count": 35,
     "metadata": {},
     "output_type": "execute_result"
    }
   ],
   "source": [
    "clean_df = housing_df.copy()\n",
    "clean_df.head(10)"
   ]
  },
  {
   "cell_type": "code",
   "execution_count": null,
   "id": "dada89d3",
   "metadata": {},
   "outputs": [],
   "source": []
  }
 ],
 "metadata": {
  "kernelspec": {
   "display_name": "Python 3 (ipykernel)",
   "language": "python",
   "name": "python3"
  },
  "language_info": {
   "codemirror_mode": {
    "name": "ipython",
    "version": 3
   },
   "file_extension": ".py",
   "mimetype": "text/x-python",
   "name": "python",
   "nbconvert_exporter": "python",
   "pygments_lexer": "ipython3",
   "version": "3.9.12"
  }
 },
 "nbformat": 4,
 "nbformat_minor": 5
}
