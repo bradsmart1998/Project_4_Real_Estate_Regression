{
 "cells": [
  {
   "cell_type": "code",
   "execution_count": 1,
   "id": "e56224c2",
   "metadata": {},
   "outputs": [],
   "source": [
    "# Import Dependancies \n",
    "import pandas as pd\n",
    "import matplotlib as plt "
   ]
  },
  {
   "cell_type": "markdown",
   "id": "25276424",
   "metadata": {},
   "source": [
    "## The Dataset"
   ]
  },
  {
   "cell_type": "code",
   "execution_count": 2,
   "id": "e0dcee96",
   "metadata": {},
   "outputs": [
    {
     "data": {
      "text/html": [
       "<div>\n",
       "<style scoped>\n",
       "    .dataframe tbody tr th:only-of-type {\n",
       "        vertical-align: middle;\n",
       "    }\n",
       "\n",
       "    .dataframe tbody tr th {\n",
       "        vertical-align: top;\n",
       "    }\n",
       "\n",
       "    .dataframe thead th {\n",
       "        text-align: right;\n",
       "    }\n",
       "</style>\n",
       "<table border=\"1\" class=\"dataframe\">\n",
       "  <thead>\n",
       "    <tr style=\"text-align: right;\">\n",
       "      <th></th>\n",
       "      <th>ADDRESS</th>\n",
       "      <th>SUBURB</th>\n",
       "      <th>PRICE</th>\n",
       "      <th>BEDROOMS</th>\n",
       "      <th>BATHROOMS</th>\n",
       "      <th>GARAGE</th>\n",
       "      <th>LAND_AREA</th>\n",
       "      <th>FLOOR_AREA</th>\n",
       "      <th>BUILD_YEAR</th>\n",
       "      <th>CBD_DIST</th>\n",
       "      <th>NEAREST_STN</th>\n",
       "      <th>NEAREST_STN_DIST</th>\n",
       "      <th>DATE_SOLD</th>\n",
       "      <th>POSTCODE</th>\n",
       "      <th>LATITUDE</th>\n",
       "      <th>LONGITUDE</th>\n",
       "      <th>NEAREST_SCH</th>\n",
       "      <th>NEAREST_SCH_DIST</th>\n",
       "      <th>NEAREST_SCH_RANK</th>\n",
       "    </tr>\n",
       "  </thead>\n",
       "  <tbody>\n",
       "    <tr>\n",
       "      <th>0</th>\n",
       "      <td>1 Acorn Place</td>\n",
       "      <td>South Lake</td>\n",
       "      <td>565000</td>\n",
       "      <td>4</td>\n",
       "      <td>2</td>\n",
       "      <td>2.0</td>\n",
       "      <td>600</td>\n",
       "      <td>160</td>\n",
       "      <td>2003.0</td>\n",
       "      <td>18300</td>\n",
       "      <td>Cockburn Central Station</td>\n",
       "      <td>1800</td>\n",
       "      <td>09-2018\\r</td>\n",
       "      <td>6164</td>\n",
       "      <td>-32.115900</td>\n",
       "      <td>115.842450</td>\n",
       "      <td>LAKELAND SENIOR HIGH SCHOOL</td>\n",
       "      <td>0.828339</td>\n",
       "      <td>NaN</td>\n",
       "    </tr>\n",
       "    <tr>\n",
       "      <th>1</th>\n",
       "      <td>1 Addis Way</td>\n",
       "      <td>Wandi</td>\n",
       "      <td>365000</td>\n",
       "      <td>3</td>\n",
       "      <td>2</td>\n",
       "      <td>2.0</td>\n",
       "      <td>351</td>\n",
       "      <td>139</td>\n",
       "      <td>2013.0</td>\n",
       "      <td>26900</td>\n",
       "      <td>Kwinana Station</td>\n",
       "      <td>4900</td>\n",
       "      <td>02-2019\\r</td>\n",
       "      <td>6167</td>\n",
       "      <td>-32.193470</td>\n",
       "      <td>115.859554</td>\n",
       "      <td>ATWELL COLLEGE</td>\n",
       "      <td>5.524324</td>\n",
       "      <td>129.0</td>\n",
       "    </tr>\n",
       "    <tr>\n",
       "      <th>2</th>\n",
       "      <td>1 Ainsley Court</td>\n",
       "      <td>Camillo</td>\n",
       "      <td>287000</td>\n",
       "      <td>3</td>\n",
       "      <td>1</td>\n",
       "      <td>1.0</td>\n",
       "      <td>719</td>\n",
       "      <td>86</td>\n",
       "      <td>1979.0</td>\n",
       "      <td>22600</td>\n",
       "      <td>Challis Station</td>\n",
       "      <td>1900</td>\n",
       "      <td>06-2015\\r</td>\n",
       "      <td>6111</td>\n",
       "      <td>-32.120578</td>\n",
       "      <td>115.993579</td>\n",
       "      <td>KELMSCOTT SENIOR HIGH SCHOOL</td>\n",
       "      <td>1.649178</td>\n",
       "      <td>113.0</td>\n",
       "    </tr>\n",
       "    <tr>\n",
       "      <th>3</th>\n",
       "      <td>1 Albert Street</td>\n",
       "      <td>Bellevue</td>\n",
       "      <td>255000</td>\n",
       "      <td>2</td>\n",
       "      <td>1</td>\n",
       "      <td>2.0</td>\n",
       "      <td>651</td>\n",
       "      <td>59</td>\n",
       "      <td>1953.0</td>\n",
       "      <td>17900</td>\n",
       "      <td>Midland Station</td>\n",
       "      <td>3600</td>\n",
       "      <td>07-2018\\r</td>\n",
       "      <td>6056</td>\n",
       "      <td>-31.900547</td>\n",
       "      <td>116.038009</td>\n",
       "      <td>SWAN VIEW SENIOR HIGH SCHOOL</td>\n",
       "      <td>1.571401</td>\n",
       "      <td>NaN</td>\n",
       "    </tr>\n",
       "    <tr>\n",
       "      <th>4</th>\n",
       "      <td>1 Aman Place</td>\n",
       "      <td>Lockridge</td>\n",
       "      <td>325000</td>\n",
       "      <td>4</td>\n",
       "      <td>1</td>\n",
       "      <td>2.0</td>\n",
       "      <td>466</td>\n",
       "      <td>131</td>\n",
       "      <td>1998.0</td>\n",
       "      <td>11200</td>\n",
       "      <td>Bassendean Station</td>\n",
       "      <td>2000</td>\n",
       "      <td>11-2016\\r</td>\n",
       "      <td>6054</td>\n",
       "      <td>-31.885790</td>\n",
       "      <td>115.947780</td>\n",
       "      <td>KIARA COLLEGE</td>\n",
       "      <td>1.514922</td>\n",
       "      <td>NaN</td>\n",
       "    </tr>\n",
       "  </tbody>\n",
       "</table>\n",
       "</div>"
      ],
      "text/plain": [
       "           ADDRESS      SUBURB   PRICE  BEDROOMS  BATHROOMS  GARAGE  \\\n",
       "0    1 Acorn Place  South Lake  565000         4          2     2.0   \n",
       "1      1 Addis Way       Wandi  365000         3          2     2.0   \n",
       "2  1 Ainsley Court     Camillo  287000         3          1     1.0   \n",
       "3  1 Albert Street    Bellevue  255000         2          1     2.0   \n",
       "4     1 Aman Place   Lockridge  325000         4          1     2.0   \n",
       "\n",
       "   LAND_AREA  FLOOR_AREA  BUILD_YEAR  CBD_DIST               NEAREST_STN  \\\n",
       "0        600         160      2003.0     18300  Cockburn Central Station   \n",
       "1        351         139      2013.0     26900           Kwinana Station   \n",
       "2        719          86      1979.0     22600           Challis Station   \n",
       "3        651          59      1953.0     17900           Midland Station   \n",
       "4        466         131      1998.0     11200        Bassendean Station   \n",
       "\n",
       "   NEAREST_STN_DIST  DATE_SOLD  POSTCODE   LATITUDE   LONGITUDE  \\\n",
       "0              1800  09-2018\\r      6164 -32.115900  115.842450   \n",
       "1              4900  02-2019\\r      6167 -32.193470  115.859554   \n",
       "2              1900  06-2015\\r      6111 -32.120578  115.993579   \n",
       "3              3600  07-2018\\r      6056 -31.900547  116.038009   \n",
       "4              2000  11-2016\\r      6054 -31.885790  115.947780   \n",
       "\n",
       "                    NEAREST_SCH  NEAREST_SCH_DIST  NEAREST_SCH_RANK  \n",
       "0   LAKELAND SENIOR HIGH SCHOOL          0.828339               NaN  \n",
       "1                ATWELL COLLEGE          5.524324             129.0  \n",
       "2  KELMSCOTT SENIOR HIGH SCHOOL          1.649178             113.0  \n",
       "3  SWAN VIEW SENIOR HIGH SCHOOL          1.571401               NaN  \n",
       "4                 KIARA COLLEGE          1.514922               NaN  "
      ]
     },
     "execution_count": 2,
     "metadata": {},
     "output_type": "execute_result"
    }
   ],
   "source": [
    "# Load in the data from the CSV\n",
    "csv_file = \"Data/all_perth_310121.csv\"\n",
    "housing_df = pd.read_csv(csv_file)\n",
    "# Display the dataset\n",
    "housing_df.head()"
   ]
  },
  {
   "cell_type": "markdown",
   "id": "05df8c87",
   "metadata": {},
   "source": [
    "## Explore the data"
   ]
  },
  {
   "cell_type": "code",
   "execution_count": 3,
   "id": "1891d010",
   "metadata": {},
   "outputs": [
    {
     "name": "stdout",
     "output_type": "stream",
     "text": [
      "<class 'pandas.core.frame.DataFrame'>\n",
      "RangeIndex: 33656 entries, 0 to 33655\n",
      "Data columns (total 19 columns):\n",
      " #   Column            Non-Null Count  Dtype  \n",
      "---  ------            --------------  -----  \n",
      " 0   ADDRESS           33656 non-null  object \n",
      " 1   SUBURB            33656 non-null  object \n",
      " 2   PRICE             33656 non-null  int64  \n",
      " 3   BEDROOMS          33656 non-null  int64  \n",
      " 4   BATHROOMS         33656 non-null  int64  \n",
      " 5   GARAGE            31178 non-null  float64\n",
      " 6   LAND_AREA         33656 non-null  int64  \n",
      " 7   FLOOR_AREA        33656 non-null  int64  \n",
      " 8   BUILD_YEAR        30501 non-null  float64\n",
      " 9   CBD_DIST          33656 non-null  int64  \n",
      " 10  NEAREST_STN       33656 non-null  object \n",
      " 11  NEAREST_STN_DIST  33656 non-null  int64  \n",
      " 12  DATE_SOLD         33656 non-null  object \n",
      " 13  POSTCODE          33656 non-null  int64  \n",
      " 14  LATITUDE          33656 non-null  float64\n",
      " 15  LONGITUDE         33656 non-null  float64\n",
      " 16  NEAREST_SCH       33656 non-null  object \n",
      " 17  NEAREST_SCH_DIST  33656 non-null  float64\n",
      " 18  NEAREST_SCH_RANK  22704 non-null  float64\n",
      "dtypes: float64(6), int64(8), object(5)\n",
      "memory usage: 4.9+ MB\n"
     ]
    }
   ],
   "source": [
    "# The info on the dataset\n",
    "housing_df.info()"
   ]
  },
  {
   "cell_type": "code",
   "execution_count": 4,
   "id": "14f018c5",
   "metadata": {},
   "outputs": [
    {
     "data": {
      "text/html": [
       "<div>\n",
       "<style scoped>\n",
       "    .dataframe tbody tr th:only-of-type {\n",
       "        vertical-align: middle;\n",
       "    }\n",
       "\n",
       "    .dataframe tbody tr th {\n",
       "        vertical-align: top;\n",
       "    }\n",
       "\n",
       "    .dataframe thead th {\n",
       "        text-align: right;\n",
       "    }\n",
       "</style>\n",
       "<table border=\"1\" class=\"dataframe\">\n",
       "  <thead>\n",
       "    <tr style=\"text-align: right;\">\n",
       "      <th></th>\n",
       "      <th>count</th>\n",
       "      <th>mean</th>\n",
       "      <th>std</th>\n",
       "      <th>min</th>\n",
       "      <th>25%</th>\n",
       "      <th>50%</th>\n",
       "      <th>75%</th>\n",
       "      <th>max</th>\n",
       "    </tr>\n",
       "  </thead>\n",
       "  <tbody>\n",
       "    <tr>\n",
       "      <th>PRICE</th>\n",
       "      <td>33656.0</td>\n",
       "      <td>637072.005794</td>\n",
       "      <td>355825.632737</td>\n",
       "      <td>51000.000000</td>\n",
       "      <td>410000.000000</td>\n",
       "      <td>535500.000000</td>\n",
       "      <td>760000.000000</td>\n",
       "      <td>2.440000e+06</td>\n",
       "    </tr>\n",
       "    <tr>\n",
       "      <th>BEDROOMS</th>\n",
       "      <td>33656.0</td>\n",
       "      <td>3.659110</td>\n",
       "      <td>0.752038</td>\n",
       "      <td>1.000000</td>\n",
       "      <td>3.000000</td>\n",
       "      <td>4.000000</td>\n",
       "      <td>4.000000</td>\n",
       "      <td>1.000000e+01</td>\n",
       "    </tr>\n",
       "    <tr>\n",
       "      <th>BATHROOMS</th>\n",
       "      <td>33656.0</td>\n",
       "      <td>1.823063</td>\n",
       "      <td>0.587427</td>\n",
       "      <td>1.000000</td>\n",
       "      <td>1.000000</td>\n",
       "      <td>2.000000</td>\n",
       "      <td>2.000000</td>\n",
       "      <td>1.600000e+01</td>\n",
       "    </tr>\n",
       "    <tr>\n",
       "      <th>GARAGE</th>\n",
       "      <td>31178.0</td>\n",
       "      <td>2.199917</td>\n",
       "      <td>1.365225</td>\n",
       "      <td>1.000000</td>\n",
       "      <td>2.000000</td>\n",
       "      <td>2.000000</td>\n",
       "      <td>2.000000</td>\n",
       "      <td>9.900000e+01</td>\n",
       "    </tr>\n",
       "    <tr>\n",
       "      <th>LAND_AREA</th>\n",
       "      <td>33656.0</td>\n",
       "      <td>2740.644016</td>\n",
       "      <td>16693.513215</td>\n",
       "      <td>61.000000</td>\n",
       "      <td>503.000000</td>\n",
       "      <td>682.000000</td>\n",
       "      <td>838.000000</td>\n",
       "      <td>9.999990e+05</td>\n",
       "    </tr>\n",
       "    <tr>\n",
       "      <th>FLOOR_AREA</th>\n",
       "      <td>33656.0</td>\n",
       "      <td>183.501545</td>\n",
       "      <td>72.102982</td>\n",
       "      <td>1.000000</td>\n",
       "      <td>130.000000</td>\n",
       "      <td>172.000000</td>\n",
       "      <td>222.250000</td>\n",
       "      <td>8.700000e+02</td>\n",
       "    </tr>\n",
       "    <tr>\n",
       "      <th>BUILD_YEAR</th>\n",
       "      <td>30501.0</td>\n",
       "      <td>1989.706436</td>\n",
       "      <td>20.964330</td>\n",
       "      <td>1868.000000</td>\n",
       "      <td>1978.000000</td>\n",
       "      <td>1995.000000</td>\n",
       "      <td>2005.000000</td>\n",
       "      <td>2.017000e+03</td>\n",
       "    </tr>\n",
       "    <tr>\n",
       "      <th>CBD_DIST</th>\n",
       "      <td>33656.0</td>\n",
       "      <td>19777.374465</td>\n",
       "      <td>11364.415413</td>\n",
       "      <td>681.000000</td>\n",
       "      <td>11200.000000</td>\n",
       "      <td>17500.000000</td>\n",
       "      <td>26600.000000</td>\n",
       "      <td>5.980000e+04</td>\n",
       "    </tr>\n",
       "    <tr>\n",
       "      <th>NEAREST_STN_DIST</th>\n",
       "      <td>33656.0</td>\n",
       "      <td>4523.371494</td>\n",
       "      <td>4495.064024</td>\n",
       "      <td>46.000000</td>\n",
       "      <td>1800.000000</td>\n",
       "      <td>3200.000000</td>\n",
       "      <td>5300.000000</td>\n",
       "      <td>3.550000e+04</td>\n",
       "    </tr>\n",
       "    <tr>\n",
       "      <th>POSTCODE</th>\n",
       "      <td>33656.0</td>\n",
       "      <td>6089.420074</td>\n",
       "      <td>62.167921</td>\n",
       "      <td>6003.000000</td>\n",
       "      <td>6050.000000</td>\n",
       "      <td>6069.000000</td>\n",
       "      <td>6150.000000</td>\n",
       "      <td>6.558000e+03</td>\n",
       "    </tr>\n",
       "    <tr>\n",
       "      <th>LATITUDE</th>\n",
       "      <td>33656.0</td>\n",
       "      <td>-31.960664</td>\n",
       "      <td>0.177780</td>\n",
       "      <td>-32.472979</td>\n",
       "      <td>-32.068437</td>\n",
       "      <td>-31.933231</td>\n",
       "      <td>-31.843818</td>\n",
       "      <td>-3.145745e+01</td>\n",
       "    </tr>\n",
       "    <tr>\n",
       "      <th>LONGITUDE</th>\n",
       "      <td>33656.0</td>\n",
       "      <td>115.879265</td>\n",
       "      <td>0.118137</td>\n",
       "      <td>115.582730</td>\n",
       "      <td>115.789763</td>\n",
       "      <td>115.854198</td>\n",
       "      <td>115.970722</td>\n",
       "      <td>1.163432e+02</td>\n",
       "    </tr>\n",
       "    <tr>\n",
       "      <th>NEAREST_SCH_DIST</th>\n",
       "      <td>33656.0</td>\n",
       "      <td>1.815268</td>\n",
       "      <td>1.746000</td>\n",
       "      <td>0.070912</td>\n",
       "      <td>0.880568</td>\n",
       "      <td>1.345520</td>\n",
       "      <td>2.097225</td>\n",
       "      <td>2.325437e+01</td>\n",
       "    </tr>\n",
       "    <tr>\n",
       "      <th>NEAREST_SCH_RANK</th>\n",
       "      <td>22704.0</td>\n",
       "      <td>72.672569</td>\n",
       "      <td>40.639795</td>\n",
       "      <td>1.000000</td>\n",
       "      <td>39.000000</td>\n",
       "      <td>68.000000</td>\n",
       "      <td>105.000000</td>\n",
       "      <td>1.390000e+02</td>\n",
       "    </tr>\n",
       "  </tbody>\n",
       "</table>\n",
       "</div>"
      ],
      "text/plain": [
       "                    count           mean            std           min  \\\n",
       "PRICE             33656.0  637072.005794  355825.632737  51000.000000   \n",
       "BEDROOMS          33656.0       3.659110       0.752038      1.000000   \n",
       "BATHROOMS         33656.0       1.823063       0.587427      1.000000   \n",
       "GARAGE            31178.0       2.199917       1.365225      1.000000   \n",
       "LAND_AREA         33656.0    2740.644016   16693.513215     61.000000   \n",
       "FLOOR_AREA        33656.0     183.501545      72.102982      1.000000   \n",
       "BUILD_YEAR        30501.0    1989.706436      20.964330   1868.000000   \n",
       "CBD_DIST          33656.0   19777.374465   11364.415413    681.000000   \n",
       "NEAREST_STN_DIST  33656.0    4523.371494    4495.064024     46.000000   \n",
       "POSTCODE          33656.0    6089.420074      62.167921   6003.000000   \n",
       "LATITUDE          33656.0     -31.960664       0.177780    -32.472979   \n",
       "LONGITUDE         33656.0     115.879265       0.118137    115.582730   \n",
       "NEAREST_SCH_DIST  33656.0       1.815268       1.746000      0.070912   \n",
       "NEAREST_SCH_RANK  22704.0      72.672569      40.639795      1.000000   \n",
       "\n",
       "                            25%            50%            75%           max  \n",
       "PRICE             410000.000000  535500.000000  760000.000000  2.440000e+06  \n",
       "BEDROOMS               3.000000       4.000000       4.000000  1.000000e+01  \n",
       "BATHROOMS              1.000000       2.000000       2.000000  1.600000e+01  \n",
       "GARAGE                 2.000000       2.000000       2.000000  9.900000e+01  \n",
       "LAND_AREA            503.000000     682.000000     838.000000  9.999990e+05  \n",
       "FLOOR_AREA           130.000000     172.000000     222.250000  8.700000e+02  \n",
       "BUILD_YEAR          1978.000000    1995.000000    2005.000000  2.017000e+03  \n",
       "CBD_DIST           11200.000000   17500.000000   26600.000000  5.980000e+04  \n",
       "NEAREST_STN_DIST    1800.000000    3200.000000    5300.000000  3.550000e+04  \n",
       "POSTCODE            6050.000000    6069.000000    6150.000000  6.558000e+03  \n",
       "LATITUDE             -32.068437     -31.933231     -31.843818 -3.145745e+01  \n",
       "LONGITUDE            115.789763     115.854198     115.970722  1.163432e+02  \n",
       "NEAREST_SCH_DIST       0.880568       1.345520       2.097225  2.325437e+01  \n",
       "NEAREST_SCH_RANK      39.000000      68.000000     105.000000  1.390000e+02  "
      ]
     },
     "execution_count": 4,
     "metadata": {},
     "output_type": "execute_result"
    }
   ],
   "source": [
    "# Describe the dataset\n",
    "housing_df.describe().T"
   ]
  },
  {
   "cell_type": "code",
   "execution_count": 5,
   "id": "835fd7ba",
   "metadata": {},
   "outputs": [
    {
     "data": {
      "text/plain": [
       "(33656, 19)"
      ]
     },
     "execution_count": 5,
     "metadata": {},
     "output_type": "execute_result"
    }
   ],
   "source": [
    "# The shape of the dataset\n",
    "housing_df.shape"
   ]
  },
  {
   "cell_type": "code",
   "execution_count": 6,
   "id": "d773bc3e",
   "metadata": {},
   "outputs": [
    {
     "data": {
      "text/plain": [
       "ADDRESS                 0\n",
       "SUBURB                  0\n",
       "PRICE                   0\n",
       "BEDROOMS                0\n",
       "BATHROOMS               0\n",
       "GARAGE               2478\n",
       "LAND_AREA               0\n",
       "FLOOR_AREA              0\n",
       "BUILD_YEAR           3155\n",
       "CBD_DIST                0\n",
       "NEAREST_STN             0\n",
       "NEAREST_STN_DIST        0\n",
       "DATE_SOLD               0\n",
       "POSTCODE                0\n",
       "LATITUDE                0\n",
       "LONGITUDE               0\n",
       "NEAREST_SCH             0\n",
       "NEAREST_SCH_DIST        0\n",
       "NEAREST_SCH_RANK    10952\n",
       "dtype: int64"
      ]
     },
     "execution_count": 6,
     "metadata": {},
     "output_type": "execute_result"
    }
   ],
   "source": [
    "# Count the number of null values\n",
    "housing_df.isnull().sum()"
   ]
  },
  {
   "cell_type": "markdown",
   "id": "a8324f12",
   "metadata": {},
   "source": [
    "# Exploratory data analysis"
   ]
  },
  {
   "cell_type": "markdown",
   "id": "7a36be43",
   "metadata": {},
   "source": [
    "### Address "
   ]
  },
  {
   "cell_type": "code",
   "execution_count": 7,
   "id": "4e64be22",
   "metadata": {},
   "outputs": [],
   "source": [
    "## Brad"
   ]
  },
  {
   "cell_type": "markdown",
   "id": "72936b67",
   "metadata": {},
   "source": [
    "### Suburb"
   ]
  },
  {
   "cell_type": "code",
   "execution_count": null,
   "id": "3077c8c8",
   "metadata": {},
   "outputs": [],
   "source": []
  },
  {
   "cell_type": "markdown",
   "id": "72d5580f",
   "metadata": {},
   "source": [
    "### Price"
   ]
  },
  {
   "cell_type": "code",
   "execution_count": null,
   "id": "ef3616ea",
   "metadata": {},
   "outputs": [],
   "source": []
  },
  {
   "cell_type": "markdown",
   "id": "7e8eb2f8",
   "metadata": {},
   "source": [
    "### Bedrooms"
   ]
  },
  {
   "cell_type": "code",
   "execution_count": null,
   "id": "233f07da",
   "metadata": {},
   "outputs": [],
   "source": []
  },
  {
   "cell_type": "markdown",
   "id": "f1b45294",
   "metadata": {},
   "source": [
    "### Garage"
   ]
  },
  {
   "cell_type": "code",
   "execution_count": null,
   "id": "34d1c3e5",
   "metadata": {},
   "outputs": [],
   "source": []
  },
  {
   "cell_type": "markdown",
   "id": "48e0116c",
   "metadata": {},
   "source": [
    "### Land Area"
   ]
  },
  {
   "cell_type": "code",
   "execution_count": null,
   "id": "2f224e21",
   "metadata": {},
   "outputs": [],
   "source": []
  },
  {
   "cell_type": "markdown",
   "id": "02d180bb",
   "metadata": {},
   "source": [
    "### Floor Area"
   ]
  },
  {
   "cell_type": "code",
   "execution_count": 8,
   "id": "0116e9ea",
   "metadata": {},
   "outputs": [],
   "source": [
    "## Brad"
   ]
  },
  {
   "cell_type": "markdown",
   "id": "73023cbe",
   "metadata": {},
   "source": [
    "### Build Year"
   ]
  },
  {
   "cell_type": "code",
   "execution_count": 9,
   "id": "4a82cd61",
   "metadata": {},
   "outputs": [
    {
     "data": {
      "text/plain": [
       "count    30501.000000\n",
       "mean      1989.706436\n",
       "std         20.964330\n",
       "min       1868.000000\n",
       "25%       1978.000000\n",
       "50%       1995.000000\n",
       "75%       2005.000000\n",
       "max       2017.000000\n",
       "Name: BUILD_YEAR, dtype: float64"
      ]
     },
     "execution_count": 9,
     "metadata": {},
     "output_type": "execute_result"
    }
   ],
   "source": [
    "# Ahmed  \n",
    "\n",
    "new_build_year = housing_df[\"BUILD_YEAR\"].describe()\n",
    "\n",
    "new_build_year"
   ]
  },
  {
   "cell_type": "code",
   "execution_count": 10,
   "id": "3723c25e",
   "metadata": {},
   "outputs": [
    {
     "data": {
      "text/plain": [
       "<AxesSubplot:title={'center':'Column exploration'}, xlabel='Statistics', ylabel='Numbers'>"
      ]
     },
     "execution_count": 10,
     "metadata": {},
     "output_type": "execute_result"
    },
    {
     "data": {
      "image/png": "[encoded data removed]",
      "text/plain": [
       "<Figure size 432x288 with 1 Axes>"
      ]
     },
     "metadata": {
      "needs_background": "light"
     },
     "output_type": "display_data"
    }
   ],
   "source": [
    "#Create a bar chart\n",
    "\n",
    "new_build_year.plot (kind='bar', xlabel=\"Statistics\", ylabel= \"Numbers\", title= \"Column exploration\", color=\"r\")\n",
    "\n",
    "\n",
    "\n"
   ]
  },
  {
   "cell_type": "markdown",
   "id": "4378743f",
   "metadata": {},
   "source": [
    "### CBD Dist"
   ]
  },
  {
   "cell_type": "code",
   "execution_count": 11,
   "id": "02925214",
   "metadata": {},
   "outputs": [
    {
     "data": {
      "text/plain": [
       "count    33656.000000\n",
       "mean     19777.374465\n",
       "std      11364.415413\n",
       "min        681.000000\n",
       "25%      11200.000000\n",
       "50%      17500.000000\n",
       "75%      26600.000000\n",
       "max      59800.000000\n",
       "Name: CBD_DIST, dtype: float64"
      ]
     },
     "execution_count": 11,
     "metadata": {},
     "output_type": "execute_result"
    }
   ],
   "source": [
    "new_CBD_DIST = housing_df[\"CBD_DIST\"].describe()\n",
    "\n",
    "new_CBD_DIST "
   ]
  },
  {
   "cell_type": "code",
   "execution_count": 12,
   "id": "353354e3",
   "metadata": {},
   "outputs": [
    {
     "data": {
      "text/plain": [
       "<AxesSubplot:title={'center':'Column exploration'}, xlabel='Statistics', ylabel='Numbers'>"
      ]
     },
     "execution_count": 12,
     "metadata": {},
     "output_type": "execute_result"
    },
    {
     "data": {
      "image/png": "[encoded data removed]",
      "text/plain": [
       "<Figure size 432x288 with 1 Axes>"
      ]
     },
     "metadata": {
      "needs_background": "light"
     },
     "output_type": "display_data"
    }
   ],
   "source": [
    "new_CBD_DIST.plot (kind='bar', xlabel=\"Statistics\", ylabel= \"Numbers\", title= \"Column exploration\", color=\"r\")"
   ]
  },
  {
   "cell_type": "markdown",
   "id": "02a7d0d5",
   "metadata": {},
   "source": [
    "### Nearest Stn"
   ]
  },
  {
   "cell_type": "code",
   "execution_count": null,
   "id": "885862b2",
   "metadata": {},
   "outputs": [],
   "source": []
  },
  {
   "cell_type": "markdown",
   "id": "a04d1ebb",
   "metadata": {},
   "source": [
    "### Nearest Stn Dist"
   ]
  },
  {
   "cell_type": "code",
   "execution_count": 13,
   "id": "1a9b9b12",
   "metadata": {},
   "outputs": [
    {
     "data": {
      "text/plain": [
       "count    33656.000000\n",
       "mean      4523.371494\n",
       "std       4495.064024\n",
       "min         46.000000\n",
       "25%       1800.000000\n",
       "50%       3200.000000\n",
       "75%       5300.000000\n",
       "max      35500.000000\n",
       "Name: NEAREST_STN_DIST, dtype: float64"
      ]
     },
     "execution_count": 13,
     "metadata": {},
     "output_type": "execute_result"
    }
   ],
   "source": [
    "new_NEAREST_STN_DIST = housing_df[\"NEAREST_STN_DIST\"].describe()\n",
    "\n",
    "new_NEAREST_STN_DIST"
   ]
  },
  {
   "cell_type": "code",
   "execution_count": 14,
   "id": "4d818508",
   "metadata": {},
   "outputs": [
    {
     "data": {
      "text/plain": [
       "<AxesSubplot:title={'center':'Column exploration'}, xlabel='Statistics', ylabel='Numbers'>"
      ]
     },
     "execution_count": 14,
     "metadata": {},
     "output_type": "execute_result"
    },
    {
     "data": {
      "image/png": "[encoded data removed]",
      "text/plain": [
       "<Figure size 432x288 with 1 Axes>"
      ]
     },
     "metadata": {
      "needs_background": "light"
     },
     "output_type": "display_data"
    }
   ],
   "source": [
    "new_NEAREST_STN_DIST.plot (kind='bar', xlabel=\"Statistics\", ylabel= \"Numbers\", title= \"Column exploration\", color=\"r\")"
   ]
  },
  {
   "cell_type": "markdown",
   "id": "ac0c9768",
   "metadata": {},
   "source": [
    "### Date Sold"
   ]
  },
  {
   "cell_type": "code",
   "execution_count": 15,
   "id": "11c0a020",
   "metadata": {},
   "outputs": [
    {
     "data": {
      "text/plain": [
       "count         33656\n",
       "unique          350\n",
       "top       10-2020\\r\n",
       "freq            628\n",
       "Name: DATE_SOLD, dtype: object"
      ]
     },
     "execution_count": 15,
     "metadata": {},
     "output_type": "execute_result"
    }
   ],
   "source": [
    "new_DATE_SOLD = housing_df[\"DATE_SOLD\"].describe()\n",
    "\n",
    "new_DATE_SOLD"
   ]
  },
  {
   "cell_type": "markdown",
   "id": "dbdf0789",
   "metadata": {},
   "source": [
    "### Post Code"
   ]
  },
  {
   "cell_type": "code",
   "execution_count": 17,
   "id": "311cbe77",
   "metadata": {},
   "outputs": [
    {
     "data": {
      "text/plain": [
       "0        6164\n",
       "1        6167\n",
       "2        6111\n",
       "3        6056\n",
       "4        6054\n",
       "         ... \n",
       "33651    6162\n",
       "33652    6061\n",
       "33653    6061\n",
       "33654    6064\n",
       "33655    6056\n",
       "Name: POSTCODE, Length: 33656, dtype: int64"
      ]
     },
     "execution_count": 17,
     "metadata": {},
     "output_type": "execute_result"
    }
   ],
   "source": [
    "# Ahmed\n",
    "\n",
    "new_POSTCODE = housing_df[\"POSTCODE\"]\n",
    "\n",
    "new_POSTCODE"
   ]
  },
  {
   "cell_type": "code",
   "execution_count": 18,
   "id": "31ede565",
   "metadata": {},
   "outputs": [
    {
     "data": {
      "text/plain": [
       "<AxesSubplot:title={'center':'Column exploration'}, xlabel='Statistics', ylabel='Numbers'>"
      ]
     },
     "execution_count": 18,
     "metadata": {},
     "output_type": "execute_result"
    },
    {
     "data": {
      "image/png": "[encoded data removed]",
      "text/plain": [
       "<Figure size 432x288 with 1 Axes>"
      ]
     },
     "metadata": {
      "needs_background": "light"
     },
     "output_type": "display_data"
    }
   ],
   "source": [
    "new_POSTCODE.plot (kind='bar', xlabel=\"Statistics\", ylabel= \"Numbers\", title= \"Column exploration\", color=\"r\")"
   ]
  },
  {
   "cell_type": "markdown",
   "id": "de71e50e",
   "metadata": {},
   "source": [
    "### Latitude"
   ]
  },
  {
   "cell_type": "code",
   "execution_count": null,
   "id": "5fc51f97",
   "metadata": {},
   "outputs": [],
   "source": [
    "# Hardip"
   ]
  },
  {
   "cell_type": "markdown",
   "id": "578b94df",
   "metadata": {},
   "source": [
    "### Longitude"
   ]
  },
  {
   "cell_type": "code",
   "execution_count": null,
   "id": "ef62d1ca",
   "metadata": {},
   "outputs": [],
   "source": []
  },
  {
   "cell_type": "markdown",
   "id": "65735a53",
   "metadata": {},
   "source": [
    "### Nearest School"
   ]
  },
  {
   "cell_type": "code",
   "execution_count": null,
   "id": "5d934da3",
   "metadata": {},
   "outputs": [],
   "source": []
  },
  {
   "cell_type": "markdown",
   "id": "7a18c3d0",
   "metadata": {},
   "source": [
    "### Nearest School Dist"
   ]
  },
  {
   "cell_type": "code",
   "execution_count": null,
   "id": "d91bb84e",
   "metadata": {},
   "outputs": [],
   "source": []
  },
  {
   "cell_type": "markdown",
   "id": "30d33476",
   "metadata": {},
   "source": [
    "### Nearest School Rank"
   ]
  },
  {
   "cell_type": "code",
   "execution_count": null,
   "id": "05ff5dfa",
   "metadata": {},
   "outputs": [],
   "source": [
    "# Hardip"
   ]
  },
  {
   "cell_type": "code",
   "execution_count": null,
   "id": "73a26804",
   "metadata": {},
   "outputs": [],
   "source": [
    "housing_df.drop([\"ADDRESS\", \"NEAREST_SCH_RANK\"], axis=1, inplace=True)"
   ]
  },
  {
   "cell_type": "code",
   "execution_count": null,
   "id": "ff7fab30",
   "metadata": {},
   "outputs": [],
   "source": [
    "housing_df[\"GARAGE\"].value_counts()"
   ]
  },
  {
   "cell_type": "code",
   "execution_count": null,
   "id": "9327783d",
   "metadata": {},
   "outputs": [],
   "source": [
    "housing_df[\"GARAGE\"] = housing_df[\"GARAGE\"].fillna(housing_df[\"GARAGE\"].mode()[0])\n",
    "housing_df[\"BUILD_YEAR\"] = housing_df[\"BUILD_YEAR\"].fillna(housing_df[\"BUILD_YEAR\"].mode()[0])"
   ]
  },
  {
   "cell_type": "code",
   "execution_count": null,
   "id": "e9c989d9",
   "metadata": {},
   "outputs": [],
   "source": [
    "\n",
    "housing_df.PRICE = housing_df.PRICE.astype('int')\n",
    "housing_df.BEDROOMS = housing_df.BEDROOMS.astype('int')\n",
    "housing_df.BATHROOMS = housing_df.BATHROOMS.astype('int')\n",
    "housing_df.GARAGE = housing_df.GARAGE.astype('int')\n",
    "housing_df.LAND_AREA = housing_df.LAND_AREA.astype('int')\n",
    "housing_df.FLOOR_AREA = housing_df.FLOOR_AREA.astype('int')\n",
    "housing_df[\"DATE_SOLD\"] = pd.to_datetime(housing_df[\"DATE_SOLD\"])\n",
    "housing_df[\"DATE_YEAR\"] = housing_df[\"DATE_SOLD\"].dt.year\n",
    "housing_df[\"DATE_MONTH\"] = housing_df[\"DATE_SOLD\"].dt.month\n",
    "housing_df.BUILD_YEAR= housing_df.BUILD_YEAR.astype('int')\n",
    "housing_df.CBD_DIST= housing_df.CBD_DIST.astype('int')\n",
    "housing_df.NEAREST_STN_DIST= housing_df.NEAREST_STN_DIST.astype('int')\n",
    "housing_df.POSTCODE= housing_df.POSTCODE.astype('int')\n",
    "housing_df.LATITUDE= housing_df.LATITUDE.astype('float')\n",
    "housing_df.LONGITUDE= housing_df.LONGITUDE.astype('float')\n",
    "housing_df.NEAREST_SCH_DIST= housing_df.NEAREST_SCH_DIST.astype('float')\n"
   ]
  },
  {
   "cell_type": "code",
   "execution_count": null,
   "id": "7b1da8ec",
   "metadata": {},
   "outputs": [],
   "source": [
    "housing_df.info()"
   ]
  },
  {
   "cell_type": "code",
   "execution_count": null,
   "id": "b5b73bc6",
   "metadata": {},
   "outputs": [],
   "source": [
    "housing_df.drop([\"DATE_SOLD\"], axis=1, inplace=True)"
   ]
  },
  {
   "cell_type": "code",
   "execution_count": null,
   "id": "f7d42db0",
   "metadata": {},
   "outputs": [],
   "source": [
    "housing_df.head()"
   ]
  },
  {
   "cell_type": "code",
   "execution_count": null,
   "id": "96ec6ad5",
   "metadata": {},
   "outputs": [],
   "source": [
    "housing_df[\"DATE_YEAR\"].value_counts()"
   ]
  },
  {
   "cell_type": "code",
   "execution_count": null,
   "id": "2cd88067",
   "metadata": {},
   "outputs": [],
   "source": []
  },
  {
   "cell_type": "code",
   "execution_count": null,
   "id": "fbef2988",
   "metadata": {},
   "outputs": [],
   "source": [
    "clean_df = housing_df.copy()\n",
    "clean_df.head(10)"
   ]
  },
  {
   "cell_type": "code",
   "execution_count": null,
   "id": "dada89d3",
   "metadata": {},
   "outputs": [],
   "source": []
  }
 ],
 "metadata": {
  "kernelspec": {
   "display_name": "Python 3 (ipykernel)",
   "language": "python",
   "name": "python3"
  },
  "language_info": {
   "codemirror_mode": {
    "name": "ipython",
    "version": 3
   },
   "file_extension": ".py",
   "mimetype": "text/x-python",
   "name": "python",
   "nbconvert_exporter": "python",
   "pygments_lexer": "ipython3",
   "version": "3.9.12"
  }
 },
 "nbformat": 4,
 "nbformat_minor": 5
}
